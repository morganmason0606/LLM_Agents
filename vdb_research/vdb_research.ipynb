{
 "cells": [
  {
   "cell_type": "markdown",
   "metadata": {},
   "source": [
    "# exploring vectordatabases and retrievers\n",
    "this notebook focuses on exploring different ways to set up vector db and retrievers"
   ]
  },
  {
   "cell_type": "markdown",
   "metadata": {},
   "source": [
    "# Set up"
   ]
  },
  {
   "cell_type": "code",
   "execution_count": 1,
   "metadata": {},
   "outputs": [],
   "source": [
    "%load_ext dotenv\n",
    "%dotenv ../.env"
   ]
  },
  {
   "cell_type": "code",
   "execution_count": 2,
   "metadata": {},
   "outputs": [],
   "source": [
    "from langchain_openai import OpenAIEmbeddings, ChatOpenAI\n",
    "\n",
    "from langchain_community.document_loaders import UnstructuredHTMLLoader\n",
    "from langchain_text_splitters import RecursiveCharacterTextSplitter\n",
    "from langchain_community.vectorstores import FAISS\n",
    "\n",
    "from langchain_core.prompts import ChatPromptTemplate, HumanMessagePromptTemplate, PromptTemplate\n",
    "\n",
    "from langchain_core.runnables import RunnableParallel, RunnablePassthrough, RunnableSequence, RunnableAssign, RunnableLambda\n",
    "from langchain_core.output_parsers import StrOutputParser\n",
    "\n",
    "\n",
    "import os\n",
    "from os.path import  join"
   ]
  },
  {
   "cell_type": "code",
   "execution_count": 3,
   "metadata": {},
   "outputs": [],
   "source": [
    "\n",
    "llm = ChatOpenAI(model=\"gpt-3.5-turbo-0125\")\n"
   ]
  },
  {
   "cell_type": "code",
   "execution_count": 4,
   "metadata": {},
   "outputs": [],
   "source": [
    "need_to_recompile = False\n",
    "if(not os.path.exists(\"faiss_index\") or need_to_recompile):\n",
    "    path_to_docs = './text'\n",
    "    docs = []\n",
    "    for f in os.listdir(path_to_docs):\n",
    "        file_path = join(path_to_docs, f)\n",
    "        if os.path.isfile(file_path):\n",
    "            loader = UnstructuredHTMLLoader(file_path)\n",
    "            docs.extend(loader.load())\n",
    "    text_splitter = RecursiveCharacterTextSplitter(chunk_size=1000, chunk_overlap=200)\n",
    "    splits = text_splitter.split_documents(docs)\n",
    "\n",
    "    vectorstore = FAISS.from_documents(splits, OpenAIEmbeddings())\n",
    "    vectorstore.save_local(\"faiss_index\")\n",
    "else:\n",
    "    vectorstore = FAISS.load_local(\"faiss_index\", OpenAIEmbeddings(), allow_dangerous_deserialization=True)\n"
   ]
  },
  {
   "cell_type": "code",
   "execution_count": 5,
   "metadata": {},
   "outputs": [],
   "source": [
    "prompt = ChatPromptTemplate(\n",
    "    input_variables=['context','question'],\n",
    "    messages=[\n",
    "        HumanMessagePromptTemplate(\n",
    "            prompt=PromptTemplate(\n",
    "                input_variables=['context', 'question'], \n",
    "                template=\"You are an assistant for question-answering tasks. Use the following pieces of retrieved context to answer the question. If you don't know the answer, just say that you don't know. Use three sentences maximum and keep the answer concise.\\nQuestion: {question} \\nContext: {context} \\nAnswer:\"\n",
    "                )\n",
    "            )\n",
    "        ]\n",
    ")"
   ]
  },
  {
   "cell_type": "code",
   "execution_count": 6,
   "metadata": {},
   "outputs": [],
   "source": [
    "def format_docs(docs):\n",
    "    return \"\\n\\n\".join(doc.page_content for doc in docs)"
   ]
  },
  {
   "cell_type": "code",
   "execution_count": 7,
   "metadata": {},
   "outputs": [],
   "source": [
    "def make_chain(retriever):\n",
    "  chain = (\n",
    "    #our first step is to create a dict {context: retriever.invoke($input_question), question: $input_question}, done through runnableparallel\n",
    "    RunnableParallel({\n",
    "      \"context\": retriever,\n",
    "      \"question\": RunnablePassthrough()\n",
    "    })\n",
    "    #with this dict, we then use runnable assign to keep our original dictionary, but also add on a new field; answer                                                                                      \n",
    "    | RunnableAssign(           \n",
    "        # we add the new field with the mapper funciotn, which takes a new runnable parallel\n",
    "        # this parrallel will take the dictionary passed into it, use it as input, and when it has its output, it will add the parallels dict to the orinal\n",
    "        # {**input_dictionary, **our_parallel_function(input_dictionary)->dict}                                                      \n",
    "        mapper=RunnableParallel(\n",
    "            #we just need one thing, the answer, so that is the only field\n",
    "            {\"answer\": \n",
    "              # prompt is expecting a dict with a 'question' and 'context' field, we currently have both of those fields, but context is a list of Document objects\n",
    "              # we use the assign and format_docs function to remap context to our desired format \n",
    "              RunnableAssign(\n",
    "                  mapper={\"context\": RunnableLambda(lambda x: format_docs(x['context']))}\n",
    "                )\n",
    "              | prompt\n",
    "              | llm\n",
    "              | StrOutputParser()\n",
    "              #at the end, this parallel has produced a dict of {answer: string output}, which is then added to the original\n",
    "            }\n",
    "        )\n",
    "    )\n",
    "  )\n",
    "  return chain"
   ]
  },
  {
   "cell_type": "code",
   "execution_count": 8,
   "metadata": {},
   "outputs": [],
   "source": [
    "def ask_question(chain, question):\n",
    "    ans = chain.invoke(question)\n",
    "    print(\"question = \",ans[\"question\"])\n",
    "    print(\"answer = \", ans['answer'])\n",
    "    print(\"Documents used:\")\n",
    "    for d in ans['context']:\n",
    "        if len(d.page_content) > 40:\n",
    "            print(\"\\tsource: \"+d.metadata['source']+\"\\t\"+d.page_content[:40]+\"...\"+d.page_content[-30:])\n",
    "        else:\n",
    "            print(\"\\tsource: \"+d.metadata['source']+\"\\t\"+d.page_content)"
   ]
  },
  {
   "cell_type": "markdown",
   "metadata": {},
   "source": [
    "## fyi on other ways to chain text\n"
   ]
  },
  {
   "cell_type": "markdown",
   "metadata": {},
   "source": [
    "other ways to do chain \n",
    "```python\n",
    "RunnableSequence(\n",
    "    RunnableParallel({\n",
    "        \"context\": retriever,\n",
    "        \"question\": RunnablePassthrough()\n",
    "    }),\n",
    "    RunnableAssign(           \n",
    "      mapper=RunnableParallel(\n",
    "          {\"answer\": \n",
    "            RunnableAssign(\n",
    "                mapper={\"context\": RunnableLambda(lambda x: format_docs(x['context']))}\n",
    "              )\n",
    "            | prompt\n",
    "            | llm\n",
    "            | StrOutputParser()\n",
    "          }\n",
    "      )\n",
    "    )   \n",
    ")\n",
    "############\n",
    "RunnableParallel({\n",
    "    \"context\": retriever,\n",
    "    \"question\": RunnablePassthrough()\n",
    "}).assign(answer=RunnablePassthrough.assign(context=(lambda x: format_docs(x[\"context\"])))\n",
    "        | prompt\n",
    "        | llm\n",
    "        | StrOutputParser()\n",
    ")\n",
    "\n",
    "\n",
    "```"
   ]
  },
  {
   "cell_type": "markdown",
   "metadata": {},
   "source": [
    "# Default"
   ]
  },
  {
   "cell_type": "code",
   "execution_count": 9,
   "metadata": {},
   "outputs": [
    {
     "name": "stdout",
     "output_type": "stream",
     "text": [
      "question =  describe the hustory of US and UK\n",
      "answer =  The United States and Great Britain had generally satisfactory long-term relations following the American Revolutionary War. The Rush–Bagot Treaty in 1817 demilitarized the Great Lakes and laid the basis for a demilitarized boundary that remains in effect today. The two nations became close allies in the 20th century spurred by multiple world conflicts.\n",
      "Documents used:\n",
      "\tsource: ./text\\war1812.html\tThe long-term results of the war were ge...\n",
      "Royal Naval Dockyard, Bermuda\n",
      "\tsource: ./text\\econhistory.html\tTariff in United States history\n",
      "\n",
      "History...omic output by a large margin.\n",
      "\tsource: ./text\\rev.html\tThe fighting continued for five years, n...For a chronological guide, see\n",
      "\tsource: ./text\\war1812.html\tThe war is seldom remembered in the Unit...and a growing friendship.[366]\n"
     ]
    }
   ],
   "source": [
    "question = \"describe the hustory of US and UK\"\n",
    "retriever  = vectorstore.as_retriever()\n",
    "chain = make_chain(retriever)\n",
    "ask_question(chain, question)"
   ]
  },
  {
   "cell_type": "code",
   "execution_count": 10,
   "metadata": {},
   "outputs": [
    {
     "name": "stdout",
     "output_type": "stream",
     "text": [
      "question =  describe the hustory of US and UK\n",
      "answer =  The US and UK have had generally peaceful relations since the 19th century, becoming close allies in the 20th century through various world conflicts. The Rush–Bagot Treaty of 1817 demilitarized the Great Lakes and Lake Champlain, establishing a lasting boundary. The U.S. Constitution, drafted after independence, is the world's oldest written constitution and has served as a model for other countries.\n",
      "Documents used:\n",
      "\tsource: ./text\\war1812.html\tThe long-term results of the war were ge...\n",
      "Royal Naval Dockyard, Bermuda\n",
      "\tsource: ./text\\econhistory.html\tToggle the table of contents\n",
      "\n",
      "Economic h...inancial center\n",
      "\n",
      "[1]\n",
      "\n",
      "[2]\n",
      "\n",
      "[3]\n",
      "\tsource: ./text\\history.html\tUnited States began with the arrival of\n",
      "...an in\n",
      "\n",
      "Massachusetts in\n",
      "\n",
      "1775.\n",
      "\tsource: ./text\\war1812.html\tNugent, Walter (2008). Habits of Empire:...0.2307/3124810. JSTOR 3124810.\n",
      "\tsource: ./text\\history.html\tBibliography of American history\n",
      "\n",
      "Coloni...ted States factor\n",
      "\n",
      "Notes[edit]\n",
      "\tsource: ./text\\rev.html\tThe U.S. Constitution, drafted shortly a...and Commerce with the U.S.[67]\n"
     ]
    }
   ],
   "source": [
    "# Retrieve more documents with higher diversity\n",
    "# Useful if your dataset has many similar documents\n",
    "retriever = vectorstore.as_retriever(\n",
    "    search_type=\"mmr\",\n",
    "    search_kwargs={'k': 6, 'lambda_mult': 0.25}\n",
    ")\n",
    "chain = make_chain(retriever)\n",
    "ask_question(chain, question)"
   ]
  },
  {
   "cell_type": "code",
   "execution_count": 11,
   "metadata": {},
   "outputs": [
    {
     "name": "stdout",
     "output_type": "stream",
     "text": [
      "question =  describe the hustory of US and UK\n",
      "answer =  The US and UK have a history of border disputes, tensions during the American Civil War, and peaceful relations for most of the 19th century. The Rush–Bagot Treaty of 1817 demilitarized the Great Lakes and laid the basis for a demilitarized boundary, remaining in effect to this day. In the 20th century, the two countries became close allies.\n",
      "Documents used:\n",
      "\tsource: ./text\\war1812.html\tThe long-term results of the war were ge...\n",
      "Royal Naval Dockyard, Bermuda\n",
      "\tsource: ./text\\econhistory.html\tTariff in United States history\n",
      "\n",
      "History...omic output by a large margin.\n",
      "\tsource: ./text\\history.html\tUnited States began with the arrival of\n",
      "...an in\n",
      "\n",
      "Massachusetts in\n",
      "\n",
      "1775.\n"
     ]
    }
   ],
   "source": [
    "# Fetch more documents for the MMR algorithm to consider\n",
    "# But only return the top 5\n",
    "retriever = vectorstore.as_retriever(\n",
    "    search_type=\"mmr\",\n",
    "    search_kwargs={'k': 3, 'fetch_k': 9}\n",
    ")\n",
    "chain = make_chain(retriever)\n",
    "ask_question(chain, question)"
   ]
  },
  {
   "cell_type": "code",
   "execution_count": 12,
   "metadata": {},
   "outputs": [
    {
     "name": "stderr",
     "output_type": "stream",
     "text": [
      "c:\\Python312\\Lib\\site-packages\\langchain_core\\vectorstores.py:391: UserWarning: No relevant docs were retrieved using the relevance score threshold 0.8\n",
      "  warnings.warn(\n"
     ]
    },
    {
     "name": "stdout",
     "output_type": "stream",
     "text": [
      "question =  describe the hustory of US and UK\n",
      "answer =  The US and UK have a long history of close diplomatic and cultural ties dating back to the American Revolution and the War of 1812. Both countries have collaborated on various military, economic, and political initiatives throughout the 20th and 21st centuries. Despite occasional disagreements, the US and UK remain strong allies in areas such as defense, intelligence-sharing, and trade.\n",
      "Documents used:\n"
     ]
    }
   ],
   "source": [
    "# Only retrieve documents that have a relevance score\n",
    "#Above a certain threshold\n",
    "retriever = vectorstore.as_retriever(\n",
    "    search_type=\"similarity_score_threshold\",\n",
    "    search_kwargs={'score_threshold': 0.8}\n",
    ")\n",
    "chain = make_chain(retriever)\n",
    "ask_question(chain, question)\n"
   ]
  },
  {
   "cell_type": "code",
   "execution_count": 13,
   "metadata": {},
   "outputs": [
    {
     "name": "stdout",
     "output_type": "stream",
     "text": [
      "question =  describe the hustory of US and UK\n",
      "answer =  The United States and Great Britain had generally satisfactory long-term relations after the War of 1812. The Rush-Bagot Treaty of 1817 demilitarized key areas, leading to a demilitarized boundary that remains in effect today. The war was a minor conflict for Britain, overshadowed by other victories, while in the U.S., it led to a strong sense of independence and the Era of Good Feelings.\n",
      "Documents used:\n",
      "\tsource: ./text\\war1812.html\tThe long-term results of the war were ge...\n",
      "Royal Naval Dockyard, Bermuda\n",
      "\tsource: ./text\\war1812.html\tThe war is seldom remembered in the Unit...and a growing friendship.[366]\n",
      "\tsource: ./text\\war1812.html\tThe historian Donald Hickey maintains th... of Good Feelings ensued.[369]\n",
      "\tsource: ./text\\war1812.html\tHistoriography\n",
      "\n",
      "This section is an excer...ly United States naval history\n"
     ]
    }
   ],
   "source": [
    "# Use a filter to only retrieve documents from a specific paper\n",
    "retriever = vectorstore.as_retriever(\n",
    "    search_kwargs={'filter': {'source':'./text\\\\war1812.html'}}\n",
    ")\n",
    "chain = make_chain(retriever)\n",
    "ask_question(chain, question)\n"
   ]
  },
  {
   "cell_type": "markdown",
   "metadata": {},
   "source": [
    "# multiquery\n",
    "https://python.langchain.com/v0.1/docs/modules/data_connection/retrievers/MultiQueryRetriever/\n",
    "This uses LLM to think of mulitiple ways to ask the question. The goal is to create different question embeddings to get a wider range of relevant documents. "
   ]
  },
  {
   "cell_type": "code",
   "execution_count": 14,
   "metadata": {},
   "outputs": [],
   "source": [
    "from typing import List\n",
    "from langchain_core.output_parsers import BaseOutputParser\n",
    "from langchain_core.prompts import PromptTemplate\n",
    "from langchain_core.pydantic_v1 import BaseModel, Field\n",
    "from langchain.retrievers.multi_query import MultiQueryRetriever\n"
   ]
  },
  {
   "cell_type": "code",
   "execution_count": 15,
   "metadata": {},
   "outputs": [],
   "source": [
    "\n",
    "\n",
    "\n",
    "# Output parser will split the LLM result into a list of queries\n",
    "class LineListOutputParser(BaseOutputParser[List[str]]):\n",
    "    \"\"\"Output parser for a list of lines.\"\"\"\n",
    "\n",
    "    def parse(self, text: str) -> List[str]:\n",
    "        lines = text.strip().split(\"\\n\")\n",
    "        return lines\n",
    "\n",
    "\n",
    "output_parser = LineListOutputParser()\n",
    "\n",
    "QUERY_PROMPT = PromptTemplate(\n",
    "    input_variables=[\"question\"],\n",
    "    template=\"\"\"You are an AI language model assistant. Your task is to generate five \n",
    "    different versions of the given user question to retrieve relevant documents from a vector \n",
    "    database. By generating multiple perspectives on the user question, your goal is to help\n",
    "    the user overcome some of the limitations of the distance-based similarity search. \n",
    "    Provide these alternative questions separated by newlines.\n",
    "    Original question: {question}\"\"\",\n",
    ")\n",
    "llm = ChatOpenAI(temperature=0)\n",
    "\n",
    "# Chain\n",
    "llm_chain = QUERY_PROMPT | llm | output_parser\n"
   ]
  },
  {
   "cell_type": "code",
   "execution_count": 16,
   "metadata": {},
   "outputs": [],
   "source": [
    "# Run\n",
    "retriever = MultiQueryRetriever(\n",
    "    retriever=vectorstore.as_retriever(), llm_chain=llm_chain, parser_key=\"lines\"\n",
    ")  # \"lines\" is the key (attribute name) of the parsed output\n",
    "\n",
    "# Results\n",
    "unique_docs = retriever.invoke(question)"
   ]
  },
  {
   "cell_type": "markdown",
   "metadata": {},
   "source": [
    "we build a second llm chain to help the retriever be more flexible in how it selects documents\\\n",
    "we can then use this retriever as normal"
   ]
  },
  {
   "cell_type": "code",
   "execution_count": 17,
   "metadata": {},
   "outputs": [
    {
     "name": "stdout",
     "output_type": "stream",
     "text": [
      "question =  describe the hustory of US and UK\n",
      "answer =  The US and UK had generally satisfactory long-term results after the war, leading to peaceful relations for the rest of the 19th century. In the 20th century, they became close allies due to multiple world conflicts. The Rush–Bagot Treaty of 1817 demilitarized the Great Lakes and Lake Champlain, laying the basis for a demilitarized boundary that remains in effect today.\n",
      "Documents used:\n",
      "\tsource: ./text\\war1812.html\tThe long-term results of the war were ge...\n",
      "Royal Naval Dockyard, Bermuda\n",
      "\tsource: ./text\\war1812.html\tThe historian Donald Hickey maintains th... of Good Feelings ensued.[369]\n",
      "\tsource: ./text\\war1812.html\tAt the same time, the British public wer...itish maritime supremacy\".[35]\n",
      "\tsource: ./text\\war1812.html\tAnglo-American tensions originated in lo...conflict was already underway.\n",
      "\tsource: ./text\\war1812.html\tThe war is seldom remembered in the Unit...and a growing friendship.[366]\n",
      "\tsource: ./text\\geohist.html\tv t e History of the United States Timel... era Louisiana Purchase War of\n",
      "\tsource: ./text\\history.html\tv t e History of the United States Timel... era Louisiana Purchase War of\n",
      "\tsource: ./text\\war1812.html\tHistoriography\n",
      "\n",
      "This section is an excer...ly United States naval history\n",
      "\tsource: ./text\\rev.html\tCountrymen, Edward. \"Historiography\" in ...e American Revolution. excerpt\n"
     ]
    }
   ],
   "source": [
    "chain = make_chain(retriever)\n",
    "ask_question(chain, question)"
   ]
  },
  {
   "cell_type": "markdown",
   "metadata": {},
   "source": [
    "# Other"
   ]
  },
  {
   "cell_type": "markdown",
   "metadata": {},
   "source": [
    "## multivector\n",
    "if we build a document indexer along with our vector db, we can expicitly state which documents we think are most relevant to the answer\\\n",
    "https://python.langchain.com/v0.1/docs/modules/data_connection/retrievers/multi_vector/\\\n",
    "## self query\n",
    "we use an llm to 'self-query' our question and documents to hopefully produce a better result\\\n",
    "https://python.langchain.com/v0.1/docs/modules/data_connection/retrievers/self_query/\\\n",
    "## contextual compression\n",
    "compresses the documents pulled by a retriever into a more condensed text to get rid of extra information\\\n",
    "https://python.langchain.com/v0.1/docs/modules/data_connection/retrievers/contextual_compression/\n"
   ]
  },
  {
   "cell_type": "code",
   "execution_count": null,
   "metadata": {},
   "outputs": [],
   "source": []
  },
  {
   "cell_type": "markdown",
   "metadata": {},
   "source": [
    "# community vdb and support"
   ]
  },
  {
   "cell_type": "markdown",
   "metadata": {},
   "source": [
    "https://api.python.langchain.com/en/latest/community_api_reference.html#module-langchain_community.vectorstores\n",
    "\n",
    "there are many vectorstores made by the community \\\n",
    "langchain has a [native vectorstore](https://api.python.langchain.com/en/latest/core_api_reference.html#module-langchain_core.vectorstores)\\\n",
    "most seem to be similar but interface with a different storage app (sql dbs, redis, FAISS, etc)\\\n",
    "[This](https://api.python.langchain.com/en/latest/vectorstores/langchain_community.vectorstores.faiss.FAISS.html#langchain_community.vectorstores.faiss.FAISS) is the link to the FAISS db. It comes with most of the standard ways to add text documents, search in different ways, etc. \n"
   ]
  },
  {
   "cell_type": "markdown",
   "metadata": {},
   "source": [
    "https://api.python.langchain.com/en/latest/community_api_reference.html#module-langchain_community.retrievers\\\n",
    "\n",
    "Retrievers are more general than vector stores; they just retrieve documents. Most simply use a vector store as a backbone and source of information, but there exists other ways of doing this.\\\n",
    "Many of the community retrievers focus around retrieving from specific souces : arxiv papers, wikipedia, databases "
   ]
  }
 ],
 "metadata": {
  "kernelspec": {
   "display_name": "Python 3",
   "language": "python",
   "name": "python3"
  },
  "language_info": {
   "codemirror_mode": {
    "name": "ipython",
    "version": 3
   },
   "file_extension": ".py",
   "mimetype": "text/x-python",
   "name": "python",
   "nbconvert_exporter": "python",
   "pygments_lexer": "ipython3",
   "version": "3.12.1"
  }
 },
 "nbformat": 4,
 "nbformat_minor": 2
}
