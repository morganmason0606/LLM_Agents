{
 "cells": [
  {
   "cell_type": "markdown",
   "metadata": {},
   "source": [
    "https://www.federalreserve.gov/publications/files/2024-march-supervisory-stress-test-methodology.pdf"
   ]
  },
  {
   "cell_type": "code",
   "execution_count": 1,
   "metadata": {},
   "outputs": [],
   "source": [
    "%load_ext dotenv\n",
    "%dotenv ../.env"
   ]
  },
  {
   "cell_type": "code",
   "execution_count": 2,
   "metadata": {},
   "outputs": [],
   "source": [
    "from langchain import hub\n",
    "from langchain_core.output_parsers import StrOutputParser\n",
    "from langchain_core.runnables import RunnablePassthrough\n",
    "from langchain_openai import OpenAIEmbeddings\n",
    "from langchain_text_splitters import RecursiveCharacterTextSplitter"
   ]
  },
  {
   "cell_type": "markdown",
   "metadata": {},
   "source": [
    "### making model"
   ]
  },
  {
   "cell_type": "code",
   "execution_count": 3,
   "metadata": {},
   "outputs": [],
   "source": [
    "from langchain_openai import ChatOpenAI\n",
    "\n",
    "llm = ChatOpenAI(model=\"gpt-3.5-turbo-0125\")\n",
    "\n"
   ]
  },
  {
   "cell_type": "markdown",
   "metadata": {},
   "source": [
    "### making doc loader"
   ]
  },
  {
   "cell_type": "code",
   "execution_count": 5,
   "metadata": {},
   "outputs": [],
   "source": [
    "from langchain_community.document_loaders import PyMuPDFLoader\n",
    "\n",
    "loader = PyMuPDFLoader(\"./2024-march-supervisory-stress-test-methodology.pdf\")\n",
    "docs = loader.load()\n"
   ]
  },
  {
   "cell_type": "code",
   "execution_count": 6,
   "metadata": {},
   "outputs": [],
   "source": [
    "text_splitter = RecursiveCharacterTextSplitter(chunk_size=1000, chunk_overlap=200)\n",
    "splits = text_splitter.split_documents(docs)"
   ]
  },
  {
   "cell_type": "code",
   "execution_count": 7,
   "metadata": {},
   "outputs": [],
   "source": [
    "from langchain_community.vectorstores import FAISS\n",
    "from langchain_community.document_loaders import TextLoader\n",
    "\n",
    "import os\n",
    "from os.path import  join\n",
    "\n",
    "\n",
    "\n",
    "if(not os.path.exists(\"faiss_index\")):\n",
    "    vectorstore = FAISS.from_documents(splits, OpenAIEmbeddings())\n",
    "    vectorstore.save_local(\"faiss_index\")\n",
    "else: \n",
    "    vectorstore = FAISS.load_local(\"faiss_index\", OpenAIEmbeddings(), allow_dangerous_deserialization=True)\n",
    "retriever = vectorstore.as_retriever()\n",
    "\n"
   ]
  },
  {
   "cell_type": "code",
   "execution_count": 8,
   "metadata": {},
   "outputs": [],
   "source": [
    "prompt = hub.pull(\"rlm/rag-prompt\") #pulled prompt from langchain prompt repo \n"
   ]
  },
  {
   "cell_type": "code",
   "execution_count": 10,
   "metadata": {},
   "outputs": [],
   "source": [
    "from langchain_core.prompts import ChatPromptTemplate, HumanMessagePromptTemplate, PromptTemplate\n",
    "\n",
    "my_prompt = ChatPromptTemplate(\n",
    "    input_variables=['context','question'],\n",
    "    messages=[\n",
    "        HumanMessagePromptTemplate(\n",
    "            prompt=PromptTemplate(\n",
    "                input_variables=['context', 'question'], \n",
    "                template=\"You are an assistant for question-answering tasks. Use the following pieces of retrieved context to answer the question. If you don't know the answer, just say that you don't know. Keep the answer concise.\\nQuestion: {question} \\nContext: {context} \\nAnswer:\"\n",
    "                )\n",
    "            )\n",
    "        ]\n",
    ")"
   ]
  },
  {
   "cell_type": "code",
   "execution_count": 12,
   "metadata": {},
   "outputs": [],
   "source": [
    "def format_docs(docs):\n",
    "    return \"\\n\\n\".join(doc.page_content for doc in docs)\n"
   ]
  },
  {
   "cell_type": "markdown",
   "metadata": {},
   "source": [
    "## local and citing sources"
   ]
  },
  {
   "cell_type": "code",
   "execution_count": 13,
   "metadata": {},
   "outputs": [],
   "source": [
    "from langchain_core.runnables import RunnableParallel\n",
    "\n",
    "rag_chain_from_docs = (\n",
    "    RunnablePassthrough.assign(context=(lambda x: format_docs(x[\"context\"])))\n",
    "    | prompt\n",
    "    | llm\n",
    "    | StrOutputParser()\n",
    ")\n",
    "\n",
    "rag_chain_with_source = RunnableParallel(\n",
    "    {\"context\": retriever, \"question\": RunnablePassthrough()}\n",
    ").assign(answer=rag_chain_from_docs)\n",
    "\n",
    "\n"
   ]
  },
  {
   "cell_type": "markdown",
   "metadata": {},
   "source": []
  },
  {
   "cell_type": "code",
   "execution_count": 18,
   "metadata": {},
   "outputs": [],
   "source": [
    "from IPython.display import clear_output\n"
   ]
  },
  {
   "cell_type": "code",
   "execution_count": 14,
   "metadata": {},
   "outputs": [],
   "source": [
    "def ask_question(question):\n",
    "    ans = rag_chain_with_source.invoke(question)\n",
    "    print(\"question = \",ans[\"question\"])\n",
    "    print(\"answer = \", ans['answer'])\n",
    "    print(\"Documents used:\")\n",
    "    for d in ans['context']:\n",
    "        if len(d.page_content) > 40:\n",
    "            print(\"\\tsource: \"+d.metadata['source']+\"\\t\"+d.page_content[:20]+\"...\"+d.page_content[-10:])\n",
    "        else:\n",
    "            print(\"\\tsource: \"+d.metadata['source']+\"\\t\"+d.page_content)"
   ]
  },
  {
   "cell_type": "code",
   "execution_count": 21,
   "metadata": {},
   "outputs": [
    {
     "name": "stdout",
     "output_type": "stream",
     "text": [
      "question = how does the fed utilize mortgage information \n",
      "answer = The Federal Reserve utilizes mortgage information by mapping FICO® Scores as an input to its first-lien mortgage loss model, using them as the most widely used credit scores in historical data. The Fed has updated its supervisory models for the 2024 stress test, including changes to the first-lien mortgage model to control for macroeconomic data variations during the COVID-19 pandemic. The models rely on detailed portfolio data to provide independent assessments of each firm's capital adequacy under stress.\n",
      "Documents used:\n",
      "\tsource: ./2024-march-supervisory-stress-test-methodology.pdf\t1 The Federal Reserve maps to FICO® Scor...visory Stress Test Methodology\n",
      "\n",
      "\tsource: ./2024-march-supervisory-stress-test-methodology.pdf\tFor the 2024 stress test, the Federal Re...riality of the GMS dependence.\n",
      "\n",
      "\tsource: ./2024-march-supervisory-stress-test-methodology.pdf\tIncome at origination\n",
      "borrowerincome\n",
      "Bor...visory Stress Test Methodology\n",
      "\n",
      "\tsource: ./2024-march-supervisory-stress-test-methodology.pdf\tThe Federal Reserve’s models rely on det...driven by differences in firm-\n",
      "\n",
      "-----------------------------\n",
      "\n"
     ]
    }
   ],
   "source": [
    "with open(\"history.txt\", 'a', encoding='utf8') as f: \n",
    "    while((question:=input().lower()) not in ('q','quit')):\n",
    "        clear_output(wait=True)\n",
    "        ans = rag_chain_with_source.invoke(question)\n",
    "        to_write = \"question = \" + ans[\"question\"] + \"\\n\"\n",
    "        to_write += \"answer = \" + ans['answer'] + \"\\n\"\n",
    "        to_write += \"Documents used:\"  + \"\\n\"\n",
    "        for d in ans['context']:\n",
    "            to_write += \"\\tsource: \" + d.metadata['source'] \n",
    "            if 'page' in d.metadata:\n",
    "                to_write += \"\\t page: \" + str(d.metadata['page'])  \n",
    "            to_write += \"\\n\\t\\t\"          \n",
    "            if len(d.page_content) > 40:\n",
    "                to_write += d.page_content[:40] + \"...\" + d.page_content[-30:] \n",
    "            else:\n",
    "                to_write += d.metadata['source']+\"\\t\"+d.page_content\n",
    "            to_write += \"\\n\\n\"\n",
    "        to_write += \"-----------------------------\\n\"\n",
    "        print(to_write)\n",
    "        f.write(to_write)"
   ]
  },
  {
   "cell_type": "code",
   "execution_count": 22,
   "metadata": {},
   "outputs": [
    {
     "data": {
      "text/plain": [
       "{'context': [Document(page_content='1 The Federal Reserve maps to FICO® Scores as an input to its domestic first-lien mortgage loss model, because these scores are the most\\nwidely used commercially available credit scores in the historical data used for estimation.\\nTable 30 shows the modeled loss rates for the six groups of loans for the supervisory severely\\nadverse scenario. Each entry in the table shows the portfolio-level (average) estimated loss rate\\nfor the loans in one of the six groups, as well as the median and 25th and 75th percentiles of the\\nestimated loan-level loss rates.\\n78\\n2024 Supervisory Stress Test Methodology', metadata={'source': './2024-march-supervisory-stress-test-methodology.pdf', 'file_path': './2024-march-supervisory-stress-test-methodology.pdf', 'page': 83, 'total_pages': 100, 'format': 'PDF 1.7', 'title': '2024 Supervisory Stress Test Methodology', 'author': 'Federal Reserve Board', 'subject': '', 'keywords': '', 'creator': 'XPP', 'producer': 'PDFlib+PDI 9.3.0p6 (Linux-x86_64)', 'creationDate': \"D:20240401114238-04'00'\", 'modDate': \"D:20240401134702-04'00'\", 'trapped': ''}),\n",
       "  Document(page_content='For the 2024 stress test, the Federal Reserve has made the following notable updates to the\\nsupervisory models:113\\n• The first-lien mortgage model was re-estimated to include more recent time periods. The specifi-\\ncation was changed to control for the effects of anomalous macroeconomic data variations and\\nmarket distortions observed during the COVID-19 pandemic.\\n• The model for the international bank and charge cards portfolio and the international small-\\nbusiness and corporate cards portfolio, within the other retail loans category, was updated. The\\nupdated model has a simplified roll-rate structure and refined macro-economic variables to\\nimprove sensitivity to scenarios and model stability.\\n• The trading IDL model was simplified to remove securitized products and the dependence on\\nthe GMS. This simplification recognizes the limited obligor concentration risk presented by secu-\\nritized products and the immateriality of the GMS dependence.', metadata={'source': './2024-march-supervisory-stress-test-methodology.pdf', 'file_path': './2024-march-supervisory-stress-test-methodology.pdf', 'page': 94, 'total_pages': 100, 'format': 'PDF 1.7', 'title': '2024 Supervisory Stress Test Methodology', 'author': 'Federal Reserve Board', 'subject': '', 'keywords': '', 'creator': 'XPP', 'producer': 'PDFlib+PDI 9.3.0p6 (Linux-x86_64)', 'creationDate': \"D:20240401114238-04'00'\", 'modDate': \"D:20240401134702-04'00'\", 'trapped': ''}),\n",
       "  Document(page_content='Income at origination\\nborrowerincome\\nBorrower’s income\\nOriginal credit limit\\noriginalcreditlimit\\nOriginal credit limit\\nInterest rate at cycle end\\ncycleendingretailapr\\nPurchase APR\\n1 The Federal Reserve maps to FICO® Scores as an input to its credit card loss model because these scores are the most widely used com-\\nmercially available credit scores in the historical data used for estimation.\\n112 The sets of accounts are available for download on the Federal Reserve’s website: higher-than-average-risk accounts,\\nhttps://www.federalreserve.gov/supervisionreg/files/cards-high-risk-2024.csv; typical-risk accounts, https://\\nwww.federalreserve.gov/supervisionreg/files/cards-typical-risk-2024.csv; lower-than-average-risk accounts, https://\\nwww.federalreserve.gov/supervisionreg/files/cards-low-risk-2024.csv.\\n86\\n2024 Supervisory Stress Test Methodology', metadata={'source': './2024-march-supervisory-stress-test-methodology.pdf', 'file_path': './2024-march-supervisory-stress-test-methodology.pdf', 'page': 91, 'total_pages': 100, 'format': 'PDF 1.7', 'title': '2024 Supervisory Stress Test Methodology', 'author': 'Federal Reserve Board', 'subject': '', 'keywords': '', 'creator': 'XPP', 'producer': 'PDFlib+PDI 9.3.0p6 (Linux-x86_64)', 'creationDate': \"D:20240401114238-04'00'\", 'modDate': \"D:20240401134702-04'00'\", 'trapped': ''}),\n",
       "  Document(page_content='The Federal Reserve’s models rely on detailed portfolio data provided by firms but generally do not\\nrely on models or estimates provided by firms, consistent with the modeling principle that empha-\\nsizes an independent perspective. This framework enables the Federal Reserve to provide the\\npublic and firms with credible, independent assessments of each firm’s capital adequacy under\\nstress and helps instill public confidence in the banking system.\\nThe Federal Reserve generally develops its models under an industry-level approach calibrated\\nusing data from many financial institutions. This approach reflects modeling principles that favor\\nmodels resulting in consistent, comparable, and forward-looking projections. The Federal Reserve\\nmodels the response of specific portfolios and instruments to variations in macroeconomic and\\nfinancial scenario variables such that differences across firms are driven by differences in firm-', metadata={'source': './2024-march-supervisory-stress-test-methodology.pdf', 'file_path': './2024-march-supervisory-stress-test-methodology.pdf', 'page': 8, 'total_pages': 100, 'format': 'PDF 1.7', 'title': '2024 Supervisory Stress Test Methodology', 'author': 'Federal Reserve Board', 'subject': '', 'keywords': '', 'creator': 'XPP', 'producer': 'PDFlib+PDI 9.3.0p6 (Linux-x86_64)', 'creationDate': \"D:20240401114238-04'00'\", 'modDate': \"D:20240401134702-04'00'\", 'trapped': ''})],\n",
       " 'question': 'how does the fed utilize mortgage information ',\n",
       " 'answer': \"The Federal Reserve utilizes mortgage information by mapping FICO® Scores as an input to its first-lien mortgage loss model, using them as the most widely used credit scores in historical data. The Fed has updated its supervisory models for the 2024 stress test, including changes to the first-lien mortgage model to control for macroeconomic data variations during the COVID-19 pandemic. The models rely on detailed portfolio data to provide independent assessments of each firm's capital adequacy under stress.\"}"
      ]
     },
     "execution_count": 22,
     "metadata": {},
     "output_type": "execute_result"
    }
   ],
   "source": [
    "ans"
   ]
  },
  {
   "cell_type": "code",
   "execution_count": 30,
   "metadata": {},
   "outputs": [
    {
     "name": "stdout",
     "output_type": "stream",
     "text": [
      "\tsource: ./2024-march-supervisory-stress-test-methodology.pdf\t83\n",
      "\t\t1 The Federal Reserve maps to FICO® Scor...visory Stress Test Methodology\n",
      "\n",
      "\tsource: ./2024-march-supervisory-stress-test-methodology.pdf\t94\n",
      "\t\tFor the 2024 stress test, the Federal Re...riality of the GMS dependence.\n",
      "\n",
      "\tsource: ./2024-march-supervisory-stress-test-methodology.pdf\t91\n",
      "\t\tIncome at origination\n",
      "borrowerincome\n",
      "Bor...visory Stress Test Methodology\n",
      "\n",
      "\tsource: ./2024-march-supervisory-stress-test-methodology.pdf\t8\n",
      "\t\tThe Federal Reserve’s models rely on det...driven by differences in firm-\n",
      "\n",
      "-----------------------------\n",
      "\n"
     ]
    }
   ],
   "source": [
    "to_write = \"\"\n",
    "for d in ans['context']:\n",
    "    to_write += \"\\tsource: \" + d.metadata['source'] \n",
    "    if 'page' in d.metadata:\n",
    "        to_write += \"\\t\" + str(d.metadata['page'])  \n",
    "    to_write += \"\\n\\t\\t\"          \n",
    "    if len(d.page_content) > 40:\n",
    "        to_write += d.page_content[:40] + \"...\" + d.page_content[-30:] \n",
    "    else:\n",
    "        to_write += d.metadata['source']+\"\\t\"+d.page_content\n",
    "    to_write += \"\\n\\n\"\n",
    "to_write += \"-----------------------------\\n\"\n",
    "print(to_write)\n",
    "        "
   ]
  }
 ],
 "metadata": {
  "kernelspec": {
   "display_name": "Python 3",
   "language": "python",
   "name": "python3"
  },
  "language_info": {
   "codemirror_mode": {
    "name": "ipython",
    "version": 3
   },
   "file_extension": ".py",
   "mimetype": "text/x-python",
   "name": "python",
   "nbconvert_exporter": "python",
   "pygments_lexer": "ipython3",
   "version": "3.12.1"
  }
 },
 "nbformat": 4,
 "nbformat_minor": 2
}
