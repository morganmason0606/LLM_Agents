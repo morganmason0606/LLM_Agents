{
 "cells": [
  {
   "cell_type": "markdown",
   "metadata": {},
   "source": [
    "# Documentation chat bot\n",
    "this notebook explores using llm to set up chatbot for documentation\n",
    "* this chatbot should be able to answer basic questions and provide the documents that were used to generate its responses"
   ]
  },
  {
   "cell_type": "markdown",
   "metadata": {},
   "source": [
    "there were many good resources from langchain about this appliaction\n",
    "* https://python.langchain.com/v0.2/docs/tutorials/rag/\n",
    "* https://python.langchain.com/v0.1/docs/use_cases/question_answering/citations/\n",
    "* https://www.youtube.com/watch?v=Vw52xyyFsB8&list=PLfaIDFEXuae2LXbO1_PKyVJiQ23ZztA0x&index=4"
   ]
  },
  {
   "cell_type": "code",
   "execution_count": 7,
   "metadata": {},
   "outputs": [
    {
     "name": "stdout",
     "output_type": "stream",
     "text": [
      "The dotenv extension is already loaded. To reload it, use:\n",
      "  %reload_ext dotenv\n"
     ]
    }
   ],
   "source": [
    "%load_ext dotenv\n",
    "%dotenv ../.env"
   ]
  },
  {
   "cell_type": "code",
   "execution_count": 8,
   "metadata": {},
   "outputs": [],
   "source": [
    "from langchain import hub\n",
    "from langchain_core.output_parsers import StrOutputParser\n",
    "from langchain_core.runnables import RunnablePassthrough\n",
    "from langchain_openai import OpenAIEmbeddings\n",
    "from langchain_text_splitters import RecursiveCharacterTextSplitter"
   ]
  },
  {
   "cell_type": "markdown",
   "metadata": {},
   "source": [
    "### making model"
   ]
  },
  {
   "cell_type": "code",
   "execution_count": 9,
   "metadata": {},
   "outputs": [],
   "source": [
    "from langchain_openai import ChatOpenAI\n",
    "\n",
    "llm = ChatOpenAI(model=\"gpt-3.5-turbo-0125\")\n",
    "\n"
   ]
  },
  {
   "cell_type": "markdown",
   "metadata": {},
   "source": [
    "### making doc loader"
   ]
  },
  {
   "cell_type": "code",
   "execution_count": 16,
   "metadata": {},
   "outputs": [
    {
     "name": "stdout",
     "output_type": "stream",
     "text": [
      "11\n"
     ]
    }
   ],
   "source": [
    "from langchain_community.document_loaders import TextLoader\n",
    "\n",
    "from os import listdir\n",
    "from os.path import isfile, join\n",
    "\n",
    "mypath = r\"./text\"\n",
    "docs = []\n",
    "\n",
    "for f in listdir(mypath):\n",
    "    file_path = join(mypath, f)\n",
    "    if isfile(file_path):\n",
    "        loader = TextLoader(file_path, encoding='utf8')\n",
    "        docs.extend(loader.load())\n",
    "print(len(docs))\n"
   ]
  },
  {
   "cell_type": "code",
   "execution_count": 17,
   "metadata": {},
   "outputs": [],
   "source": [
    "text_splitter = RecursiveCharacterTextSplitter(chunk_size=1000, chunk_overlap=200)\n",
    "splits = text_splitter.split_documents(docs)"
   ]
  },
  {
   "cell_type": "code",
   "execution_count": 18,
   "metadata": {},
   "outputs": [],
   "source": [
    "stored = False\n"
   ]
  },
  {
   "cell_type": "code",
   "execution_count": 26,
   "metadata": {},
   "outputs": [],
   "source": [
    "from langchain_community.vectorstores import FAISS\n",
    "if(not stored):\n",
    "    vectorstore = FAISS.from_documents(splits, OpenAIEmbeddings())\n",
    "    vectorstore.save_local(\"faiss_index\")\n",
    "    stored=True\n",
    "else: \n",
    "    vectorstore = FAISS.load_local(\"faiss_index\", OpenAIEmbeddings(), allow_dangerous_deserialization=True)\n",
    "retriever = vectorstore.as_retriever()"
   ]
  },
  {
   "cell_type": "code",
   "execution_count": 27,
   "metadata": {},
   "outputs": [],
   "source": [
    "prompt = hub.pull(\"rlm/rag-prompt\") #pulled prompt from langchain prompt repo \n"
   ]
  },
  {
   "cell_type": "code",
   "execution_count": 28,
   "metadata": {},
   "outputs": [
    {
     "name": "stdout",
     "output_type": "stream",
     "text": [
      "input_variables=['context', 'question'] metadata={'lc_hub_owner': 'rlm', 'lc_hub_repo': 'rag-prompt', 'lc_hub_commit_hash': '50442af133e61576e74536c6556cefe1fac147cad032f4377b60c436e6cdcb6e'} messages=[HumanMessagePromptTemplate(prompt=PromptTemplate(input_variables=['context', 'question'], template=\"You are an assistant for question-answering tasks. Use the following pieces of retrieved context to answer the question. If you don't know the answer, just say that you don't know. Use three sentences maximum and keep the answer concise.\\nQuestion: {question} \\nContext: {context} \\nAnswer:\"))]\n"
     ]
    }
   ],
   "source": [
    "print(prompt)"
   ]
  },
  {
   "cell_type": "code",
   "execution_count": 29,
   "metadata": {},
   "outputs": [],
   "source": [
    "from langchain_core.prompts import ChatPromptTemplate, HumanMessagePromptTemplate, PromptTemplate\n",
    "\n",
    "my_prompt = ChatPromptTemplate(\n",
    "    input_variables=['context','question'],\n",
    "    messages=[\n",
    "        HumanMessagePromptTemplate(\n",
    "            prompt=PromptTemplate(\n",
    "                input_variables=['context', 'question'], \n",
    "                template=\"You are an assistant for question-answering tasks. Use the following pieces of retrieved context to answer the question. If you don't know the answer, just say that you don't know. Use three sentences maximum and keep the answer concise.\\nQuestion: {question} \\nContext: {context} \\nAnswer:\"\n",
    "                )\n",
    "            )\n",
    "        ]\n",
    ")"
   ]
  },
  {
   "cell_type": "code",
   "execution_count": 30,
   "metadata": {},
   "outputs": [],
   "source": [
    "def format_docs(docs):\n",
    "    return \"\\n\\n\".join(doc.page_content for doc in docs)\n",
    "\n",
    "\n",
    "rag_chain = (\n",
    "    {\"context\": retriever | format_docs, \"question\": RunnablePassthrough()}\n",
    "    | prompt\n",
    "    | llm\n",
    "    | StrOutputParser()\n",
    ")\n",
    "\n"
   ]
  },
  {
   "cell_type": "markdown",
   "metadata": {},
   "source": [
    "## local and citing sources"
   ]
  },
  {
   "cell_type": "code",
   "execution_count": 31,
   "metadata": {},
   "outputs": [],
   "source": [
    "from langchain_core.runnables import RunnableParallel\n",
    "\n",
    "rag_chain_from_docs = (\n",
    "    RunnablePassthrough.assign(context=(lambda x: format_docs(x[\"context\"])))\n",
    "    | prompt\n",
    "    | llm\n",
    "    | StrOutputParser()\n",
    ")\n",
    "\n",
    "rag_chain_with_source = RunnableParallel(\n",
    "    {\"context\": retriever, \"question\": RunnablePassthrough()}\n",
    ").assign(answer=rag_chain_from_docs)\n",
    "\n",
    "\n"
   ]
  },
  {
   "cell_type": "code",
   "execution_count": 32,
   "metadata": {},
   "outputs": [
    {
     "data": {
      "text/plain": [
       "{'context': [Document(page_content=\"China has an upper middle income,[28] developing, mixed, socialist market economy incorporating industrial policies and strategic five-year plans.[29] It is the world's second largest economy by nominal GDP, behind the United States, and the world's largest economy since 2016 when measured by purchasing power parity (PPP).[note 2] China accounted for 19% of the global economy in 2022 in PPP terms,[30] and around 18% in nominal terms in 2022.[30][31] The economy consists of public sector enterprises, state-owned enterprises (SOEs) and mixed-ownership enterprises, as well as a large domestic private sector and openness to foreign businesses in their system. According to the annual data of major economic indicators released by the National Bureau of Statistics since 1952, China's GDP grew by an average of 6.17% per year in the 26 years from 1953 to 1978. China implemented economic reform in 1978, and from 1979 to 2023, the country's GDP growth rate grew by an average of 8.93% per year in\", metadata={'source': './text\\\\econ_china.txt'}),\n",
       "  Document(page_content='China has bilateral free trade agreements with many nations and is a member of the Regional Comprehensive Economic Partnership (RCEP).[62] China is widely regarded as the \"powerhouse of manufacturing\" or \"the factory of the world\".[63] Of the world\\'s 500 largest companies, 142 are headquartered in China.[64] It has four of the world\\'s top ten most competitive financial centers[65] and three of the world\\'s ten largest stock exchanges (both by market capitalization and by trade volume).[66] Public social expenditure was around 10% of GDP in China.[67] Additionally, the public pension expenditure in China accounted for 5.2% of GDP.[68]', metadata={'source': './text\\\\econ_china.txt'}),\n",
       "  Document(page_content=\"China is the world's largest manufacturing economy and exporter of goods.[34] However, exports as a percentage of GDP has steadily dropped to just around 20%, reflecting its decreasing importance to the Chinese economy. Nevertheless, it remains the largest trading nation in the world and plays a prominent role in international trade.[35][36] Manufacturing has been transitioning toward high-tech industries such as electric vehicles, renewable energy, telecommunications and IT equipment, and services has also grown as a percentage of GDP. It is also the world's fastest-growing consumer market and second-largest importer of goods.[37] China is also the world's largest consumer of numerous commodities, and accounts for about half of global consumption of metals.[38] China is a net importer of services products.[39] China was the largest recipient of foreign direct investment (FDI) in the world as of 2020, receiving inflows of $163 billion.[40] but more recently, inbound FDI has fallen\", metadata={'source': './text\\\\econ_china.txt'}),\n",
       "  Document(page_content=\"With 791 million workers, the Chinese labor force was the world's largest as of 2021, according to The World Factbook. In 2022, China was ranked the 11th most innovative country in the world, 3rd in Asia & Oceania region and 2nd for countries with a population of over 100 million. It is the only middle-income economy and the only newly industrialized economy in the top 30.[53][54] It also leads in several measures of global patent filings,[55][56] as well as research and scientific output.[57] It is also the world's largest high-technology exporter.[58] China has the second-largest financial assets in the world, valued at $17.9 trillion as of 2021.[59] As of 2022, China was second in the world in total number of billionaires.[60] and second in millionaires with 6.2 million. China has the largest middle-class in the world, with over 500 million people earning over RMB 120,000 a year.[61]\", metadata={'source': './text\\\\econ_china.txt'})],\n",
       " 'question': \"what is China's economy classified as?\",\n",
       " 'answer': \"China's economy is classified as an upper middle income, developing, mixed, socialist market economy. It is the world's second largest economy by nominal GDP and the largest economy by purchasing power parity. China has a large public sector, state-owned enterprises, mixed-ownership enterprises, a domestic private sector, and openness to foreign businesses.\"}"
      ]
     },
     "execution_count": 32,
     "metadata": {},
     "output_type": "execute_result"
    }
   ],
   "source": [
    "ans = rag_chain_with_source.invoke(\"what is China's economy classified as?\")"
   ]
  },
  {
   "cell_type": "markdown",
   "metadata": {},
   "source": []
  },
  {
   "cell_type": "code",
   "execution_count": 43,
   "metadata": {},
   "outputs": [
    {
     "name": "stdout",
     "output_type": "stream",
     "text": [
      "question =  what is China's economy classified as?\n",
      "answer =  China's economy is classified as an upper middle income, developing, mixed, socialist market economy. It is the world's second largest economy by nominal GDP and the largest economy by purchasing power parity. China has a large public sector, state-owned enterprises, mixed-ownership enterprises, a domestic private sector, and openness to foreign businesses.\n",
      "Documents used:\n",
      "\tsource: ./text\\econ_china.txt\tChina has an upper middle income,[28] de...n average of 8.93% per year in\n",
      "\tsource: ./text\\econ_china.txt\tChina has bilateral free trade agreement...accounted for 5.2% of GDP.[68]\n",
      "\tsource: ./text\\econ_china.txt\tChina is the world's largest manufacturi...cently, inbound FDI has fallen\n",
      "\tsource: ./text\\econ_china.txt\tWith 791 million workers, the Chinese la...g over RMB 120,000 a year.[61]\n"
     ]
    }
   ],
   "source": [
    "print(\"question = \",ans[\"question\"])\n",
    "print(\"answer = \", ans['answer'])\n",
    "print(\"Documents used:\")\n",
    "for d in ans['context']:\n",
    "    if len(d.page_content) > 40:\n",
    "        print(\"\\tsource: \"+d.metadata['source']+\"\\t\"+d.page_content[:40]+\"...\"+d.page_content[-30:])\n",
    "    else:\n",
    "        print(\"\\tsource: \"+d.metadata['source']+\"\\t\"+d.page_content)\n"
   ]
  },
  {
   "cell_type": "code",
   "execution_count": null,
   "metadata": {},
   "outputs": [],
   "source": []
  }
 ],
 "metadata": {
  "kernelspec": {
   "display_name": "Python 3",
   "language": "python",
   "name": "python3"
  },
  "language_info": {
   "codemirror_mode": {
    "name": "ipython",
    "version": 3
   },
   "file_extension": ".py",
   "mimetype": "text/x-python",
   "name": "python",
   "nbconvert_exporter": "python",
   "pygments_lexer": "ipython3",
   "version": "3.12.1"
  }
 },
 "nbformat": 4,
 "nbformat_minor": 2
}
