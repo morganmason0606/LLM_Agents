{
 "cells": [
  {
   "cell_type": "markdown",
   "metadata": {},
   "source": [
    "# set up"
   ]
  },
  {
   "cell_type": "code",
   "execution_count": 1,
   "metadata": {},
   "outputs": [],
   "source": [
    "import pandas as pd\n",
    "import re\n",
    "from collections import Counter"
   ]
  },
  {
   "cell_type": "code",
   "execution_count": 2,
   "metadata": {},
   "outputs": [],
   "source": [
    "path  = \"./ws.xlsx\""
   ]
  },
  {
   "cell_type": "code",
   "execution_count": 3,
   "metadata": {},
   "outputs": [],
   "source": [
    "df_dict = pd.read_excel(path, sheet_name=None )"
   ]
  },
  {
   "cell_type": "markdown",
   "metadata": {},
   "source": [
    "# exploring"
   ]
  },
  {
   "cell_type": "code",
   "execution_count": 192,
   "metadata": {},
   "outputs": [
    {
     "data": {
      "text/plain": [
       "dict_keys(['2023', '2020', '2017', '2012', '2007', '2002'])"
      ]
     },
     "execution_count": 192,
     "metadata": {},
     "output_type": "execute_result"
    }
   ],
   "source": [
    "df_dict.keys()"
   ]
  },
  {
   "cell_type": "code",
   "execution_count": 6,
   "metadata": {},
   "outputs": [],
   "source": [
    "df2023 = df_dict['2023']"
   ]
  },
  {
   "cell_type": "code",
   "execution_count": 194,
   "metadata": {},
   "outputs": [
    {
     "data": {
      "text/html": [
       "<div>\n",
       "<style scoped>\n",
       "    .dataframe tbody tr th:only-of-type {\n",
       "        vertical-align: middle;\n",
       "    }\n",
       "\n",
       "    .dataframe tbody tr th {\n",
       "        vertical-align: top;\n",
       "    }\n",
       "\n",
       "    .dataframe thead th {\n",
       "        text-align: right;\n",
       "    }\n",
       "</style>\n",
       "<table border=\"1\" class=\"dataframe\">\n",
       "  <thead>\n",
       "    <tr style=\"text-align: right;\">\n",
       "      <th></th>\n",
       "      <th>Year Ended December 31(Dollars and Shares in Millions, Except Per Share Data)</th>\n",
       "      <th>2023</th>\n",
       "      <th>2022</th>\n",
       "      <th>2021</th>\n",
       "      <th>2023v 2022</th>\n",
       "      <th>2022v 2021</th>\n",
       "    </tr>\n",
       "  </thead>\n",
       "  <tbody>\n",
       "    <tr>\n",
       "      <th>0</th>\n",
       "      <td>Net interest income</td>\n",
       "      <td>17396.0</td>\n",
       "      <td>14728.0</td>\n",
       "      <td>12494.0</td>\n",
       "      <td>18.1%</td>\n",
       "      <td>17.9%</td>\n",
       "    </tr>\n",
       "    <tr>\n",
       "      <th>1</th>\n",
       "      <td>Taxable-equivalent adjustment^{(a)}</td>\n",
       "      <td>131.0</td>\n",
       "      <td>118.0</td>\n",
       "      <td>106.0</td>\n",
       "      <td>11.0</td>\n",
       "      <td>11.3</td>\n",
       "    </tr>\n",
       "    <tr>\n",
       "      <th>2</th>\n",
       "      <td>Net interest income (taxable-equivalent basis)...</td>\n",
       "      <td>17527.0</td>\n",
       "      <td>14846.0</td>\n",
       "      <td>12600.0</td>\n",
       "      <td>18.1</td>\n",
       "      <td>17.8</td>\n",
       "    </tr>\n",
       "    <tr>\n",
       "      <th>3</th>\n",
       "      <td>Noninterest income</td>\n",
       "      <td>10617.0</td>\n",
       "      <td>9456.0</td>\n",
       "      <td>10227.0</td>\n",
       "      <td>12.3</td>\n",
       "      <td>(7.5)</td>\n",
       "    </tr>\n",
       "    <tr>\n",
       "      <th>4</th>\n",
       "      <td>Total net revenue</td>\n",
       "      <td>28144.0</td>\n",
       "      <td>24302.0</td>\n",
       "      <td>22827.0</td>\n",
       "      <td>15.8</td>\n",
       "      <td>6.5</td>\n",
       "    </tr>\n",
       "  </tbody>\n",
       "</table>\n",
       "</div>"
      ],
      "text/plain": [
       "  Year Ended December 31(Dollars and Shares in Millions, Except Per Share Data)  \\\n",
       "0                                Net interest income                              \n",
       "1                Taxable-equivalent adjustment^{(a)}                              \n",
       "2  Net interest income (taxable-equivalent basis)...                              \n",
       "3                                 Noninterest income                              \n",
       "4                                  Total net revenue                              \n",
       "\n",
       "      2023     2022     2021 2023v 2022 2022v 2021  \n",
       "0  17396.0  14728.0  12494.0      18.1%      17.9%  \n",
       "1    131.0    118.0    106.0       11.0       11.3  \n",
       "2  17527.0  14846.0  12600.0       18.1       17.8  \n",
       "3  10617.0   9456.0  10227.0       12.3      (7.5)  \n",
       "4  28144.0  24302.0  22827.0       15.8        6.5  "
      ]
     },
     "execution_count": 194,
     "metadata": {},
     "output_type": "execute_result"
    }
   ],
   "source": [
    "df2023.head()"
   ]
  },
  {
   "cell_type": "code",
   "execution_count": 195,
   "metadata": {},
   "outputs": [
    {
     "data": {
      "text/plain": [
       "'Year Ended December 31(Dollars and Shares in Millions, Except Per Share Data)'"
      ]
     },
     "execution_count": 195,
     "metadata": {},
     "output_type": "execute_result"
    }
   ],
   "source": [
    "ser = df2023.iloc[:, 0]\n",
    "ser.name\n",
    "df2023.columns[0]\n"
   ]
  },
  {
   "cell_type": "markdown",
   "metadata": {},
   "source": [
    "# beginning implementation "
   ]
  },
  {
   "cell_type": "code",
   "execution_count": 7,
   "metadata": {},
   "outputs": [],
   "source": [
    "functions = [\n",
    "    lambda s : re.sub(r\"\\^\\{\\(.*\\)\\}\", \"\", s),\n",
    "    lambda s : re.sub(r\"\\(.*\\)\", \"\", s),\n",
    "    lambda s : re.split(r\"\\n\", s)[-1],\n",
    "    lambda s: s.lower()\n",
    "]\n",
    "def apply_functions(s): \n",
    "    for f in functions:\n",
    "        s = f(s)\n",
    "    return s"
   ]
  },
  {
   "cell_type": "code",
   "execution_count": 5,
   "metadata": {},
   "outputs": [
    {
     "ename": "NameError",
     "evalue": "name 'df2023' is not defined",
     "output_type": "error",
     "traceback": [
      "\u001b[1;31m---------------------------------------------------------------------------\u001b[0m",
      "\u001b[1;31mNameError\u001b[0m                                 Traceback (most recent call last)",
      "Cell \u001b[1;32mIn[5], line 1\u001b[0m\n\u001b[1;32m----> 1\u001b[0m clean_df \u001b[38;5;241m=\u001b[39m \u001b[43mdf2023\u001b[49m\u001b[38;5;241m.\u001b[39mcopy()\n\u001b[0;32m      2\u001b[0m clean_df\u001b[38;5;241m.\u001b[39miloc[:, \u001b[38;5;241m0\u001b[39m] \u001b[38;5;241m=\u001b[39m clean_df\u001b[38;5;241m.\u001b[39miloc[:,\u001b[38;5;241m0\u001b[39m]\u001b[38;5;241m.\u001b[39mapply(apply_functions)\n",
      "\u001b[1;31mNameError\u001b[0m: name 'df2023' is not defined"
     ]
    }
   ],
   "source": [
    "clean_df = df2023.copy()\n",
    "clean_df.iloc[:, 0] = clean_df.iloc[:,0].apply(apply_functions)\n"
   ]
  },
  {
   "cell_type": "code",
   "execution_count": 8,
   "metadata": {},
   "outputs": [
    {
     "data": {
      "text/html": [
       "<div>\n",
       "<style scoped>\n",
       "    .dataframe tbody tr th:only-of-type {\n",
       "        vertical-align: middle;\n",
       "    }\n",
       "\n",
       "    .dataframe tbody tr th {\n",
       "        vertical-align: top;\n",
       "    }\n",
       "\n",
       "    .dataframe thead th {\n",
       "        text-align: right;\n",
       "    }\n",
       "</style>\n",
       "<table border=\"1\" class=\"dataframe\">\n",
       "  <thead>\n",
       "    <tr style=\"text-align: right;\">\n",
       "      <th></th>\n",
       "      <th>Year Ended December 31(Dollars and Shares in Millions, Except Per Share Data)</th>\n",
       "      <th>2023</th>\n",
       "      <th>2022</th>\n",
       "      <th>2021</th>\n",
       "      <th>2023v 2022</th>\n",
       "      <th>2022v 2021</th>\n",
       "    </tr>\n",
       "  </thead>\n",
       "  <tbody>\n",
       "    <tr>\n",
       "      <th>0</th>\n",
       "      <td>net interest income</td>\n",
       "      <td>17396.0</td>\n",
       "      <td>14728.0</td>\n",
       "      <td>12494.0</td>\n",
       "      <td>18.1%</td>\n",
       "      <td>17.9%</td>\n",
       "    </tr>\n",
       "    <tr>\n",
       "      <th>1</th>\n",
       "      <td>taxable-equivalent adjustment</td>\n",
       "      <td>131.0</td>\n",
       "      <td>118.0</td>\n",
       "      <td>106.0</td>\n",
       "      <td>11.0</td>\n",
       "      <td>11.3</td>\n",
       "    </tr>\n",
       "    <tr>\n",
       "      <th>2</th>\n",
       "      <td>net interest income</td>\n",
       "      <td>17527.0</td>\n",
       "      <td>14846.0</td>\n",
       "      <td>12600.0</td>\n",
       "      <td>18.1</td>\n",
       "      <td>17.8</td>\n",
       "    </tr>\n",
       "    <tr>\n",
       "      <th>3</th>\n",
       "      <td>noninterest income</td>\n",
       "      <td>10617.0</td>\n",
       "      <td>9456.0</td>\n",
       "      <td>10227.0</td>\n",
       "      <td>12.3</td>\n",
       "      <td>(7.5)</td>\n",
       "    </tr>\n",
       "    <tr>\n",
       "      <th>4</th>\n",
       "      <td>total net revenue</td>\n",
       "      <td>28144.0</td>\n",
       "      <td>24302.0</td>\n",
       "      <td>22827.0</td>\n",
       "      <td>15.8</td>\n",
       "      <td>6.5</td>\n",
       "    </tr>\n",
       "  </tbody>\n",
       "</table>\n",
       "</div>"
      ],
      "text/plain": [
       "  Year Ended December 31(Dollars and Shares in Millions, Except Per Share Data)  \\\n",
       "0                                net interest income                              \n",
       "1                      taxable-equivalent adjustment                              \n",
       "2                               net interest income                               \n",
       "3                                 noninterest income                              \n",
       "4                                  total net revenue                              \n",
       "\n",
       "      2023     2022     2021 2023v 2022 2022v 2021  \n",
       "0  17396.0  14728.0  12494.0      18.1%      17.9%  \n",
       "1    131.0    118.0    106.0       11.0       11.3  \n",
       "2  17527.0  14846.0  12600.0       18.1       17.8  \n",
       "3  10617.0   9456.0  10227.0       12.3      (7.5)  \n",
       "4  28144.0  24302.0  22827.0       15.8        6.5  "
      ]
     },
     "execution_count": 8,
     "metadata": {},
     "output_type": "execute_result"
    }
   ],
   "source": [
    "def clean_df_dict(df_dict: dict[str, pd.DataFrame]) -> dict[str, pd.DataFrame]: \n",
    "    clean_dict = dict()\n",
    "    for key,df in df_dict.items():\n",
    "        clean_df = df.copy()\n",
    "        clean_df.iloc[:, 0] = clean_df.iloc[:,0].apply(apply_functions)\n",
    "        clean_dict[key] = clean_df\n",
    "    return clean_dict\n",
    "\n",
    "clean_dict = clean_df_dict(df_dict)\n",
    "clean_dict['2023'].head()\n"
   ]
  },
  {
   "cell_type": "code",
   "execution_count": 9,
   "metadata": {},
   "outputs": [],
   "source": [
    "def get_columns(df_dict, label_column=0, start_row=0): \n",
    "    \"\"\"    \n",
    "    returns a pair of set of shared columns and a dict of name:set of not shared columns\n",
    "    expects a dictionary of 'name':'df' where each df has the same starting column and row \n",
    "\n",
    "    Args:\n",
    "        df_dict (dict[str:df]): mapping from name to dataframe. All dataframs are expected to be of similar structure\n",
    "        label_column (int, optional): the column of labels. Defaults to 0.\n",
    "        start_row (int, optional): the starting of row. Defaults to 0.\n",
    "    \"\"\"\n",
    "    row_labels = None\n",
    "    for df in df_dict.values():\n",
    "        df_cleaned = df.iloc[start_row:, label_column].apply(apply_functions)\n",
    "        if not row_labels:\n",
    "            row_labels = set(df_cleaned)\n",
    "        row_labels &= set(df_cleaned)\n",
    "    uniques = dict()\n",
    "    for name, df in df_dict.items():\n",
    "        df_cleaned = df.iloc[start_row:, label_column].apply(apply_functions)\n",
    "        uniques[name] = set(df_cleaned) - row_labels\n",
    "\n",
    "    return row_labels, uniques\n",
    "row_labels, uniques = get_columns(clean_dict)\n"
   ]
  },
  {
   "cell_type": "code",
   "execution_count": 10,
   "metadata": {},
   "outputs": [
    {
     "name": "stdout",
     "output_type": "stream",
     "text": [
      "{'noninterest expense', 'net income', 'average balances', 'implementation of the current expected credit losses methodology', 'net interest income ', 'total risk-based capital', 'dividends declared per share', 'allowance for credit losses', 'leverage', 'capital ratios', 'income taxes and taxable-equivalent adjustment', 'average diluted common shares outstanding', 'market value per share', 'tangible common equity to risk-weighted assets', 'total leverage exposure', 'efficiency ratio', 'taxable-equivalent adjustment', 'tier 1 capital', 'tangible common equity to tangible assets', 'period end balances', 'return on average assets', 'diluted earnings per share', 'noninterest income', 'investment securities', 'earnings per share', 'net income attributable to u.s. bancorp', 'net interest income', 'return on average common equity', 'provision for credit losses', 'net income applicable to u.s. bancorp common shareholders', 'per common share', 'earning assets', 'deposits', \"total u.s. bancorp shareholders' equity\", 'net interest margin ', 'financial ratios', 'assets', 'common equity tier 1 capital', 'net  loss attributable to noncontrolling interests', 'book value per share', 'average common shares outstanding', 'total net revenue', 'loans', 'common equity tier 1 capital to risk-weighted assets, reflecting the full'}\n"
     ]
    },
    {
     "data": {
      "text/plain": [
       "Counter()"
      ]
     },
     "execution_count": 10,
     "metadata": {},
     "output_type": "execute_result"
    }
   ],
   "source": [
    "def get_columns_counter(df_dict, label_column=0, start_row=0): \n",
    "    \"\"\"    \n",
    "    returns a counter of column names\n",
    "    expects a dictionary of 'name':'df' where each df has the same starting column and row \n",
    "\n",
    "    Args:\n",
    "        df_dict (dict[str:df]): mapping from name to dataframe. All dataframs are expected to be of similar structure\n",
    "        label_column (int, optional): the column of labels. Defaults to 0.\n",
    "        start_row (int, optional): the starting of row. Defaults to 0.\n",
    "    \"\"\"\n",
    "    row_counter = Counter()\n",
    "    for df in df_dict.values():\n",
    "        df_cleaned = df.iloc[start_row:, label_column].apply(apply_functions)\n",
    "        print(set(df_cleaned))\n",
    "        break\n",
    "        row_counter += Counter(df_cleaned)\n",
    "    return row_counter\n",
    "\n",
    "row_counter = get_columns_counter(clean_dict)\n",
    "row_counter\n"
   ]
  },
  {
   "cell_type": "code",
   "execution_count": null,
   "metadata": {},
   "outputs": [],
   "source": [
    "row_labels"
   ]
  },
  {
   "cell_type": "code",
   "execution_count": null,
   "metadata": {},
   "outputs": [],
   "source": [
    "uniques"
   ]
  },
  {
   "cell_type": "markdown",
   "metadata": {},
   "source": [
    "# using pds"
   ]
  },
  {
   "cell_type": "code",
   "execution_count": 19,
   "metadata": {},
   "outputs": [],
   "source": [
    "from typing import List"
   ]
  },
  {
   "cell_type": "code",
   "execution_count": 28,
   "metadata": {},
   "outputs": [
    {
     "data": {
      "text/html": [
       "<div>\n",
       "<style scoped>\n",
       "    .dataframe tbody tr th:only-of-type {\n",
       "        vertical-align: middle;\n",
       "    }\n",
       "\n",
       "    .dataframe tbody tr th {\n",
       "        vertical-align: top;\n",
       "    }\n",
       "\n",
       "    .dataframe thead th {\n",
       "        text-align: right;\n",
       "    }\n",
       "</style>\n",
       "<table border=\"1\" class=\"dataframe\">\n",
       "  <thead>\n",
       "    <tr style=\"text-align: right;\">\n",
       "      <th></th>\n",
       "      <th>2023</th>\n",
       "      <th>2020</th>\n",
       "      <th>2017</th>\n",
       "      <th>2012</th>\n",
       "      <th>2007</th>\n",
       "      <th>2002</th>\n",
       "    </tr>\n",
       "    <tr>\n",
       "      <th>Year Ended December 31(Dollars and Shares in Millions, Except Per Share Data)</th>\n",
       "      <th></th>\n",
       "      <th></th>\n",
       "      <th></th>\n",
       "      <th></th>\n",
       "      <th></th>\n",
       "      <th></th>\n",
       "    </tr>\n",
       "  </thead>\n",
       "  <tbody>\n",
       "    <tr>\n",
       "      <th>noninterest expense</th>\n",
       "      <td>18873.00</td>\n",
       "      <td>13369.00</td>\n",
       "      <td>12945.00</td>\n",
       "      <td>10,456</td>\n",
       "      <td>6,862</td>\n",
       "      <td>5932.50</td>\n",
       "    </tr>\n",
       "    <tr>\n",
       "      <th>provision for credit losses</th>\n",
       "      <td>2275.00</td>\n",
       "      <td>3806.00</td>\n",
       "      <td>1390.00</td>\n",
       "      <td>1,882</td>\n",
       "      <td>792</td>\n",
       "      <td>1349.00</td>\n",
       "    </tr>\n",
       "    <tr>\n",
       "      <th>net income</th>\n",
       "      <td>5458.00</td>\n",
       "      <td>4985.00</td>\n",
       "      <td>6253.00</td>\n",
       "      <td>5,490</td>\n",
       "      <td>$4,324</td>\n",
       "      <td>3289.20</td>\n",
       "    </tr>\n",
       "    <tr>\n",
       "      <th>per common share</th>\n",
       "      <td>NaN</td>\n",
       "      <td>NaN</td>\n",
       "      <td>NaN</td>\n",
       "      <td>NaN</td>\n",
       "      <td>NaN</td>\n",
       "      <td>NaN</td>\n",
       "    </tr>\n",
       "    <tr>\n",
       "      <th>earnings per share</th>\n",
       "      <td>3.27</td>\n",
       "      <td>3.06</td>\n",
       "      <td>3.53</td>\n",
       "      <td>$2.85</td>\n",
       "      <td>$2.46</td>\n",
       "      <td>1.72</td>\n",
       "    </tr>\n",
       "    <tr>\n",
       "      <th>...</th>\n",
       "      <td>...</td>\n",
       "      <td>...</td>\n",
       "      <td>...</td>\n",
       "      <td>...</td>\n",
       "      <td>...</td>\n",
       "      <td>...</td>\n",
       "    </tr>\n",
       "    <tr>\n",
       "      <th>deposits</th>\n",
       "      <td>512312.00</td>\n",
       "      <td>429770.00</td>\n",
       "      <td>347215.00</td>\n",
       "      <td>249,183</td>\n",
       "      <td>131,445</td>\n",
       "      <td>105124.00</td>\n",
       "    </tr>\n",
       "    <tr>\n",
       "      <th>deposits</th>\n",
       "      <td>512312.00</td>\n",
       "      <td>429770.00</td>\n",
       "      <td>347215.00</td>\n",
       "      <td>249,183</td>\n",
       "      <td>131,445</td>\n",
       "      <td>115534.00</td>\n",
       "    </tr>\n",
       "    <tr>\n",
       "      <th>tier 1 capital</th>\n",
       "      <td>11.50</td>\n",
       "      <td>11.30</td>\n",
       "      <td>10.80</td>\n",
       "      <td>10.8%</td>\n",
       "      <td>8.3%</td>\n",
       "      <td>7.80</td>\n",
       "    </tr>\n",
       "    <tr>\n",
       "      <th>total risk-based capital</th>\n",
       "      <td>13.70</td>\n",
       "      <td>13.40</td>\n",
       "      <td>12.90</td>\n",
       "      <td>13.1</td>\n",
       "      <td>12.2</td>\n",
       "      <td>12.20</td>\n",
       "    </tr>\n",
       "    <tr>\n",
       "      <th>leverage</th>\n",
       "      <td>8.10</td>\n",
       "      <td>8.30</td>\n",
       "      <td>8.90</td>\n",
       "      <td>9.2</td>\n",
       "      <td>7.9</td>\n",
       "      <td>7.50</td>\n",
       "    </tr>\n",
       "  </tbody>\n",
       "</table>\n",
       "<p>272 rows × 6 columns</p>\n",
       "</div>"
      ],
      "text/plain": [
       "                                                         2023       2020  \\\n",
       "Year Ended December 31(Dollars and Shares in Mi...                         \n",
       "noninterest expense                                  18873.00   13369.00   \n",
       "provision for credit losses                           2275.00    3806.00   \n",
       "net income                                            5458.00    4985.00   \n",
       "per common share                                          NaN        NaN   \n",
       "earnings per share                                       3.27       3.06   \n",
       "...                                                       ...        ...   \n",
       "deposits                                            512312.00  429770.00   \n",
       "deposits                                            512312.00  429770.00   \n",
       "tier 1 capital                                          11.50      11.30   \n",
       "total risk-based capital                                13.70      13.40   \n",
       "leverage                                                 8.10       8.30   \n",
       "\n",
       "                                                         2017     2012  \\\n",
       "Year Ended December 31(Dollars and Shares in Mi...                       \n",
       "noninterest expense                                  12945.00   10,456   \n",
       "provision for credit losses                           1390.00    1,882   \n",
       "net income                                            6253.00    5,490   \n",
       "per common share                                          NaN      NaN   \n",
       "earnings per share                                       3.53    $2.85   \n",
       "...                                                       ...      ...   \n",
       "deposits                                            347215.00  249,183   \n",
       "deposits                                            347215.00  249,183   \n",
       "tier 1 capital                                          10.80    10.8%   \n",
       "total risk-based capital                                12.90     13.1   \n",
       "leverage                                                 8.90      9.2   \n",
       "\n",
       "                                                       2007       2002  \n",
       "Year Ended December 31(Dollars and Shares in Mi...                      \n",
       "noninterest expense                                   6,862    5932.50  \n",
       "provision for credit losses                             792    1349.00  \n",
       "net income                                           $4,324    3289.20  \n",
       "per common share                                        NaN        NaN  \n",
       "earnings per share                                    $2.46       1.72  \n",
       "...                                                     ...        ...  \n",
       "deposits                                            131,445  105124.00  \n",
       "deposits                                            131,445  115534.00  \n",
       "tier 1 capital                                         8.3%       7.80  \n",
       "total risk-based capital                               12.2      12.20  \n",
       "leverage                                                7.9       7.50  \n",
       "\n",
       "[272 rows x 6 columns]"
      ]
     },
     "execution_count": 28,
     "metadata": {},
     "output_type": "execute_result"
    }
   ],
   "source": [
    "clean_dict = clean_df_dict(df_dict)\n",
    "clean_dict['2023'].iloc[:, :2]\n",
    "small_dfs: List[pd.DataFrame] = [df.iloc[:,:2].set_index(df.columns[0]) for df in clean_dict.values()]\n",
    "joined = small_dfs[0].join(small_dfs[1:], how='inner')\n",
    "joined\n"
   ]
  }
 ],
 "metadata": {
  "kernelspec": {
   "display_name": "Python 3",
   "language": "python",
   "name": "python3"
  },
  "language_info": {
   "codemirror_mode": {
    "name": "ipython",
    "version": 3
   },
   "file_extension": ".py",
   "mimetype": "text/x-python",
   "name": "python",
   "nbconvert_exporter": "python",
   "pygments_lexer": "ipython3",
   "version": "3.12.1"
  }
 },
 "nbformat": 4,
 "nbformat_minor": 2
}
