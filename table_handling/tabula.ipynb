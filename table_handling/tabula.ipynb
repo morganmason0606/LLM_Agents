{
 "cells": [
  {
   "cell_type": "code",
   "execution_count": null,
   "metadata": {},
   "outputs": [],
   "source": [
    "import tabula\n",
    "\n",
    "# Read pdf into list of DataFrame\n",
    "dfs = tabula.read_pdf(\"test.pdf\", pages='all')\n"
   ]
  }
 ],
 "metadata": {
  "language_info": {
   "name": "python"
  }
 },
 "nbformat": 4,
 "nbformat_minor": 2
}
