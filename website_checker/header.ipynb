{
 "cells": [
  {
   "cell_type": "code",
   "execution_count": 1,
   "metadata": {},
   "outputs": [],
   "source": [
    "import requests"
   ]
  },
  {
   "cell_type": "code",
   "execution_count": 4,
   "metadata": {},
   "outputs": [],
   "source": [
    "header = {\n",
    "}"
   ]
  },
  {
   "cell_type": "code",
   "execution_count": 22,
   "metadata": {},
   "outputs": [],
   "source": [
    "fed = \"https://www.federalreserve.gov/supervisionreg/dfa-stress-tests-2024.htm\"\n",
    "reddit = \"http://www.reddit.com\"\n",
    "bbc =\"https://www.bbc.com/news\""
   ]
  },
  {
   "cell_type": "code",
   "execution_count": 38,
   "metadata": {},
   "outputs": [
    {
     "data": {
      "text/plain": [
       "<Response [304]>"
      ]
     },
     "execution_count": 38,
     "metadata": {},
     "output_type": "execute_result"
    }
   ],
   "source": [
    "resp = requests.head(\n",
    "    url = fed, \n",
    "    headers={\n",
    "        \"If-Modified-Since\": \"Fri, 02 Aug 2024 22:40:00 GMT\"\n",
    "    }, \n",
    "    allow_redirects=True\n",
    ")\n",
    "resp"
   ]
  },
  {
   "cell_type": "code",
   "execution_count": 37,
   "metadata": {},
   "outputs": [
    {
     "data": {
      "text/plain": [
       "200"
      ]
     },
     "execution_count": 37,
     "metadata": {},
     "output_type": "execute_result"
    }
   ],
   "source": [
    "resp.status_code"
   ]
  },
  {
   "cell_type": "code",
   "execution_count": 30,
   "metadata": {},
   "outputs": [
    {
     "name": "stdout",
     "output_type": "stream",
     "text": [
      "Current Time = 15:54:04\n",
      "Your Time Zone is GMT -0800\n"
     ]
    }
   ],
   "source": [
    "from datetime import datetime\n",
    "from time import gmtime, strftime\n",
    "\n",
    "now = datetime.now()\n",
    "current_time = now.strftime(\"%H:%M:%S\")\n",
    "print(\"Current Time =\", current_time)\n",
    "print(\"Your Time Zone is GMT\", strftime(\"%z\", gmtime()))\n"
   ]
  },
  {
   "cell_type": "code",
   "execution_count": 35,
   "metadata": {},
   "outputs": [
    {
     "name": "stdout",
     "output_type": "stream",
     "text": [
      "Fri, 02 Aug 2024 22:56:42 GMT\n"
     ]
    }
   ],
   "source": [
    "import datetime \n",
    "from time import gmtime\n",
    "\n",
    "# Get current date and time\n",
    "now = datetime.datetime.now(datetime.UTC)\n",
    "\n",
    "# Format the date and time according to HTTP date format\n",
    "http_date = now.strftime(\"%a, %d %b %Y %H:%M:%S GMT\")\n",
    "\n",
    "print(http_date)\n"
   ]
  }
 ],
 "metadata": {
  "kernelspec": {
   "display_name": "Python 3",
   "language": "python",
   "name": "python3"
  },
  "language_info": {
   "codemirror_mode": {
    "name": "ipython",
    "version": 3
   },
   "file_extension": ".py",
   "mimetype": "text/x-python",
   "name": "python",
   "nbconvert_exporter": "python",
   "pygments_lexer": "ipython3",
   "version": "3.12.1"
  }
 },
 "nbformat": 4,
 "nbformat_minor": 2
}
