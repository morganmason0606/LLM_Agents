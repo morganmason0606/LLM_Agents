{
 "cells": [
  {
   "cell_type": "code",
   "execution_count": null,
   "metadata": {},
   "outputs": [],
   "source": [
    "from langchain_core.prompts import ChatPromptTemplate\n",
    "from langchain_core.prompts import FewShotPromptTemplate\n",
    "\n",
    "\n",
    "pt1 = ChatPromptTemplate.from_messages([\n",
    "    (\"system\", \"You are a senior financial analyst working for bulge bracket investment bank, focusing on equity and debt issuers. Expert in financial data extraction and analysis sourcing from SEC, FRB and self-reported disclosure documents (e.g., annual reports, press releases, earning guidance).  Respond in concise, laconic, and direct language, communicating main ideas first, and backing up assertions with citations of facts from various sources. Preamble and re-summarization unnecessary in answers -- use the fewest words possible.\"),\n",
    "    (\"system\", \"\"\"Read through the input, and determine if there is any substantial new content when compared to the previous 'key-trends'. New content comprises: (1) substantial changes to quality of trends already identified, (2) trends which were not previously identified, and (3) previously identified trends no longer applicable\"\"\")\n",
    "    (\"ststem\", \"\"\"Output an enummerated list of the substantial new content, entitled \"Updated Trends\" with the following characteristics for each item: (1) Number in list, (2) Short name for trend, (3) dash, (4) brief description of tend, (5) specific detail from the input expanding the characterization of the trend.\"\"\")\n",
    "    (\"user\", \"Input:\\n{input} \\n\\n key-trends:\\n{key_trends}\\n\")\n",
    "    (\"ai\", \"answer:\\n{answer}\")\n",
    "])\n",
    "\n",
    "examples = [\n",
    "    {\n",
    "        \"input\" : \"\",\n",
    "        \"key_trends\" : \"\", \n",
    "        \"answer\" : \"\",\n",
    "    },\n",
    "    {\n",
    "        \"input\" : \"\",\n",
    "        \"key_trends\" : \"\", \n",
    "        \"answer\" : \"\",\n",
    "    },\n",
    "]\n",
    "pt1_examples = FewShotPromptTemplate(\n",
    "    examples=examples,\n",
    "    example_prompt=pt1,\n",
    "    suffix=\"Question: {input}\",\n",
    "    input_variables=[\"input\", \"key_variables\"],\n",
    ")\n",
    "\n"
   ]
  },
  {
   "cell_type": "markdown",
   "metadata": {},
   "source": [
    "prompt 2 seems better for some kind of script to run with a database maintained along with it\n",
    "- although, one can use tools to control how the model behaves\n",
    "    - tools would be good for things like plotting data\n",
    "    - one such tool could be a data extractor; give it a tool that asks for a value and the tool extracts it for you \n",
    "- yf does seem to have this data, but its locked behind a subscription"
   ]
  },
  {
   "cell_type": "markdown",
   "metadata": {},
   "source": [
    "prompt 3 seems like you want to run the model on each paragraph seperately: doable and even cheaper since we can batch the job. \n",
    "- can even combine the individual pieces together to make one "
   ]
  }
 ],
 "metadata": {
  "language_info": {
   "name": "python"
  }
 },
 "nbformat": 4,
 "nbformat_minor": 2
}
