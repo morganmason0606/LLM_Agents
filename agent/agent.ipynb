{
 "cells": [
  {
   "cell_type": "code",
   "execution_count": 1,
   "metadata": {},
   "outputs": [],
   "source": [
    "%load_ext dotenv\n",
    "%dotenv ../.env"
   ]
  },
  {
   "cell_type": "code",
   "execution_count": 2,
   "metadata": {},
   "outputs": [],
   "source": [
    "tools = []"
   ]
  },
  {
   "cell_type": "code",
   "execution_count": 3,
   "metadata": {},
   "outputs": [],
   "source": [
    "from langchain_community.tools.tavily_search import TavilySearchResults\n",
    "\n",
    "search = TavilySearchResults(max_results=2)\n",
    "tools.append((search))"
   ]
  },
  {
   "cell_type": "code",
   "execution_count": 7,
   "metadata": {},
   "outputs": [
    {
     "name": "stdout",
     "output_type": "stream",
     "text": [
      "[{'url': 'https://ir.usbank.com/news-events/webcasts-presentations/event-details/2023/Q2-2023-US-Bancorp-Earnings-Conference-Call/default.aspx', 'content': 'News & events. Press releases; Webcasts & presentations; Governance. Governance documents; Board of directors; ... Q2 2023 U.S. Bancorp Earnings Conference Call. July 19, 2023 10:00 AM EDT. Webcast (opens in new window) Earning Release (opens in new window)'}, {'url': 'https://finance.yahoo.com/news/u-bancorp-nyse-usb-q2-062443409.html', 'content': 'U.S. Bancorp (NYSE:USB) Q2 2023 Earnings Call Transcript July 19, 2023 U.S. Bancorp reports earnings inline with expectations. Reported EPS is $1.12 EPS, expectations were $1.12. Operator: Welcome ...'}]\n"
     ]
    }
   ],
   "source": [
    "search_results = search.invoke(\"US bank 2023 Q2 Press Release\")\n",
    "print(search_results)"
   ]
  },
  {
   "cell_type": "code",
   "execution_count": null,
   "metadata": {},
   "outputs": [],
   "source": [
    "from langchain_openai import ChatOpenAI\n",
    "\n",
    "model = ChatOpenAI(model=\"gpt-3.5-turbo\")"
   ]
  },
  {
   "cell_type": "code",
   "execution_count": null,
   "metadata": {},
   "outputs": [],
   "source": [
    "from langchain_core.tools import tool\n",
    "\n",
    "@tool\n",
    "\n"
   ]
  },
  {
   "cell_type": "code",
   "execution_count": null,
   "metadata": {},
   "outputs": [],
   "source": [
    "from langgraph.prebuilt import create_react_agent\n",
    "\n",
    "agent_executor = create_react_agent(model, tools)\n"
   ]
  }
 ],
 "metadata": {
  "kernelspec": {
   "display_name": "Python 3",
   "language": "python",
   "name": "python3"
  },
  "language_info": {
   "codemirror_mode": {
    "name": "ipython",
    "version": 3
   },
   "file_extension": ".py",
   "mimetype": "text/x-python",
   "name": "python",
   "nbconvert_exporter": "python",
   "pygments_lexer": "ipython3",
   "version": "3.12.1"
  }
 },
 "nbformat": 4,
 "nbformat_minor": 2
}
