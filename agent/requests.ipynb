{
 "cells": [
  {
   "cell_type": "markdown",
   "metadata": {},
   "source": [
    "# do more research into google scraping api\n",
    "https://developers.google.com/custom-search/v1/overview"
   ]
  },
  {
   "cell_type": "code",
   "execution_count": 33,
   "metadata": {},
   "outputs": [],
   "source": [
    "import requests\n",
    "import urllib\n",
    "from bs4 import BeautifulSoup\n",
    "import re"
   ]
  },
  {
   "cell_type": "code",
   "execution_count": 14,
   "metadata": {},
   "outputs": [],
   "source": [
    "looking_for = \"US Bank 2023 Q2 Earnings Supplement\"\n",
    "url = f\"\"\"http://www.google.com/search?&q={looking_for.replace(\" \", \"+\", -1)}+filetype%3Apdf\"\"\""
   ]
  },
  {
   "cell_type": "code",
   "execution_count": 16,
   "metadata": {},
   "outputs": [],
   "source": [
    "resp = requests.get(url=url)\n",
    "resp.raise_for_status()"
   ]
  },
  {
   "cell_type": "code",
   "execution_count": 25,
   "metadata": {},
   "outputs": [],
   "source": [
    "content = resp._content"
   ]
  },
  {
   "cell_type": "code",
   "execution_count": 29,
   "metadata": {},
   "outputs": [],
   "source": [
    "soup = BeautifulSoup(content)"
   ]
  },
  {
   "cell_type": "code",
   "execution_count": 112,
   "metadata": {},
   "outputs": [
    {
     "name": "stdout",
     "output_type": "stream",
     "text": [
      "https://s203.q4cdn.com/711684571/files/doc_financials/2024/q2/Press-Release-2Q24.pdf\n"
     ]
    }
   ],
   "source": [
    "first_pdf_link = soup.find(href=(lambda h: h and re.search(r\"\\.pdf$\", h.split('&')[0])))\n",
    "if first_pdf_link and (m := re.search(r\"http.*\\.pdf\", first_pdf_link.get('href'))):\n",
    "    link = m.group(0)\n",
    "else:\n",
    "    raise RuntimeError(\"No such link\")\n",
    "print(link)\n"
   ]
  },
  {
   "cell_type": "code",
   "execution_count": 119,
   "metadata": {},
   "outputs": [
    {
     "name": "stdout",
     "output_type": "stream",
     "text": [
      "https://s203.q4cdn.com/711684571/files/doc_financials/2024/q2/Press-Release-2Q24.pdf\n",
      "https://media.corporate-ir.net/media_files/IROL/usbank/AR2023/pdf/2023-USBancorp_Financials.pdf\n",
      "https://ir.usbank.com/files/doc_news/2023/03/News-Release-03-30-2023-170307918272539.pdf\n",
      "https://www.occ.gov/publications-and-resources/publications/quarterly-report-on-bank-trading-and-derivatives-activities/files/pub-derivatives-quarterly-qtr2-2023.pdf\n",
      "https://www.morganstanley.com/about-us-ir/finsup2q2023/finsup2q2023.pdf\n",
      "https://ir.usbank.com/files/doc_news/2023/06/News-Release-06-07-2023-1703079056629730.pdf\n",
      "https://www.jpmorganchase.com/content/dam/jpmc/jpmorgan-chase-and-co/investor-relations/documents/quarterly-earnings/2023/2nd-quarter/c9585f9b-75cc-4a49-b1ea-cec4423c87a7.pdf\n",
      "https://www.citigroup.com/rcs/citigpa/storage/public/Earnings/Q22024/2024prqtr2rslt.pdf\n",
      "https://ir.usbank.com/files/doc_financials/2023/ar/USBank_CorporateResponsibilityReport2023_FINAL.pdf\n",
      "https://calprivate.bank/wp-content/uploads/2023/07/PBAM-Press-Release-Q2-2023.pdf\n"
     ]
    }
   ],
   "source": [
    "links = soup.find_all(href=(lambda h: h and re.search(r\"http.*\\.pdf\", h)))\n",
    "for l in links:\n",
    "    h = l.get(\"href\")\n",
    "    l = re.search(r\"http.*\\.pdf\", h)\n",
    "    print(l.group(0))"
   ]
  },
  {
   "cell_type": "code",
   "execution_count": 121,
   "metadata": {},
   "outputs": [],
   "source": [
    "import requests\n",
    "from bs4 import BeautifulSoup\n",
    "import re\n",
    "import typing\n",
    "\n",
    "def make_google_search_for_pdf(looking_for:str, regex=r\"http.*\\.pdf\") -> str | typing.NoReturn:\n",
    "    \"\"\"\n",
    "    this function takes in a string you wish to make a google search for and returns the first link that matches a given regex\n",
    "    the default regex matches a link to a pdf\n",
    "    \"\"\"\n",
    "    url = f\"\"\"http://www.google.com/search?&q={looking_for.replace(\" \", \"+\", -1)}+filetype%3Apdf\"\"\"\n",
    "    \n",
    "    resp = requests.get(url=url)\n",
    "    resp.raise_for_status()\n",
    "\n",
    "    content = resp._content\n",
    "    soup = BeautifulSoup(content)\n",
    "    first_pdf_link = soup.find(href=(lambda h: h and re.search(regex, h.split('&')[0])))\n",
    "    \n",
    "    if first_pdf_link and (m := re.search(regex, first_pdf_link.get('href'))):\n",
    "        link = m.group(0)\n",
    "    else:\n",
    "        raise RuntimeError(\"No such link\")\n",
    "    print(f\"using: {link}\")\n",
    "    return link\n",
    "\n",
    "\n"
   ]
  },
  {
   "cell_type": "code",
   "execution_count": 123,
   "metadata": {},
   "outputs": [
    {
     "name": "stdout",
     "output_type": "stream",
     "text": [
      "using: https://s203.q4cdn.com/711684571/files/doc_financials/2024/q2/2Q24-Earnings-Call-Presentation.pdf\n",
      "https://s203.q4cdn.com/711684571/files/doc_financials/2024/q2/2Q24-Earnings-Call-Presentation.pdf\n"
     ]
    }
   ],
   "source": [
    "print(make_google_search_for_pdf(\"US BANK 2024 Q2 Press Release\"))"
   ]
  }
 ],
 "metadata": {
  "kernelspec": {
   "display_name": "Python 3",
   "language": "python",
   "name": "python3"
  },
  "language_info": {
   "codemirror_mode": {
    "name": "ipython",
    "version": 3
   },
   "file_extension": ".py",
   "mimetype": "text/x-python",
   "name": "python",
   "nbconvert_exporter": "python",
   "pygments_lexer": "ipython3",
   "version": "3.12.1"
  }
 },
 "nbformat": 4,
 "nbformat_minor": 2
}
