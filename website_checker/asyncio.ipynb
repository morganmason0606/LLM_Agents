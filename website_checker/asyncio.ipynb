{
 "cells": [
  {
   "cell_type": "code",
   "execution_count": 7,
   "metadata": {},
   "outputs": [],
   "source": [
    "import requests\n",
    "import asyncio\n",
    "import threading"
   ]
  },
  {
   "cell_type": "code",
   "execution_count": 2,
   "metadata": {},
   "outputs": [],
   "source": [
    "event_loop = asyncio.new_event_loop()"
   ]
  },
  {
   "cell_type": "code",
   "execution_count": 4,
   "metadata": {},
   "outputs": [],
   "source": [
    "resp = requests.get(\"https://www.federalreserve.gov/supervisionreg/ccar.htm\")"
   ]
  },
  {
   "cell_type": "code",
   "execution_count": 5,
   "metadata": {},
   "outputs": [
    {
     "data": {
      "text/plain": [
       "{'Date': 'Fri, 02 Aug 2024 21:33:40 GMT', 'Content-Type': 'text/html', 'Transfer-Encoding': 'chunked', 'Connection': 'keep-alive', 'Last-Modified': 'Thu, 10 Feb 2022 21:24:23 GMT', 'X-Frame-Options': 'SAMEORIGIN', 'CF-Cache-Status': 'MISS', 'Set-Cookie': '__cf_bm=xjS0A_sohnt4jFeSEjEk4CEdlyouFP84T2IBPkRJKbA-1722634420-1.0.1.1-cES3ZU0lByrte_1sre6sH9uxvJAdfx4QCHrnP9dXbW4EItfrQxYwLvtYfBJdP9yKKWz_23alXSQgDbfsIG7bMA; path=/; expires=Fri, 02-Aug-24 22:03:40 GMT; domain=.federalreserve.gov; HttpOnly; Secure; SameSite=None, _cfuvid=tmyXeFb1Lh1f7K4vkVwJwfYMefdXB3uk534UEVNctGI-1722634420635-0.0.1.1-604800000; path=/; domain=.federalreserve.gov; HttpOnly; Secure; SameSite=None', 'Vary': 'Accept-Encoding', 'Strict-Transport-Security': 'max-age=31536000; includeSubDomains; preload', 'Server': 'cloudflare', 'CF-RAY': '8ad130082d6c67bb-SJC', 'Content-Encoding': 'gzip'}"
      ]
     },
     "execution_count": 5,
     "metadata": {},
     "output_type": "execute_result"
    }
   ],
   "source": [
    "resp.headers"
   ]
  },
  {
   "cell_type": "code",
   "execution_count": 9,
   "metadata": {},
   "outputs": [],
   "source": [
    "t = threading.Timer(10, lambda: print(\"Hello\"))"
   ]
  }
 ],
 "metadata": {
  "kernelspec": {
   "display_name": "Python 3",
   "language": "python",
   "name": "python3"
  },
  "language_info": {
   "codemirror_mode": {
    "name": "ipython",
    "version": 3
   },
   "file_extension": ".py",
   "mimetype": "text/x-python",
   "name": "python",
   "nbconvert_exporter": "python",
   "pygments_lexer": "ipython3",
   "version": "3.12.1"
  }
 },
 "nbformat": 4,
 "nbformat_minor": 2
}
