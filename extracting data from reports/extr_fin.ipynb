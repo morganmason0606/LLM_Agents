{
 "cells": [
  {
   "cell_type": "code",
   "execution_count": 20,
   "metadata": {},
   "outputs": [
    {
     "name": "stdout",
     "output_type": "stream",
     "text": [
      "The dotenv extension is already loaded. To reload it, use:\n",
      "  %reload_ext dotenv\n"
     ]
    }
   ],
   "source": [
    "%load_ext dotenv\n",
    "%dotenv ../.env"
   ]
  },
  {
   "cell_type": "code",
   "execution_count": 21,
   "metadata": {},
   "outputs": [],
   "source": [
    "from langchain_openai import OpenAIEmbeddings, ChatOpenAI\n",
    "llm = ChatOpenAI(model=\"gpt-4o-mini\")\n",
    "embedding_model = OpenAIEmbeddings(model=\"text-embedding-3-small\")"
   ]
  },
  {
   "cell_type": "code",
   "execution_count": 19,
   "metadata": {},
   "outputs": [],
   "source": [
    "from langchain_community.vectorstores import FAISS\n",
    "from langchain_text_splitters import RecursiveCharacterTextSplitter\n",
    "from langchain_community.document_loaders import PyPDFLoader\n",
    "import os\n",
    "file_loader = PyPDFLoader\n",
    "text_splitter = RecursiveCharacterTextSplitter(chunk_size=1000, chunk_overlap=200) \n",
    "\n",
    "PATH_TO_PDFS = './reports/24Q1USBANK'\n",
    "INDEX_PATH = os.path.join(PATH_TO_PDFS, 'faiss_index') \n",
    "if(not os.path.exists(INDEX_PATH)):\n",
    "    docs = []\n",
    "    for f in os.listdir(PATH_TO_PDFS):\n",
    "        dir_path = os.path.join(PATH_TO_PDFS, f)\n",
    "        if os.path.isfile(dir_path):\n",
    "                loader = file_loader(dir_path)\n",
    "        docs.extend(loader.load())\n",
    "    splits = text_splitter.split_documents(docs)\n",
    "    vectorstore = FAISS.from_documents(splits, embedding_model)\n",
    "    vectorstore.save_local(INDEX_PATH)\n",
    "else:\n",
    "    vectorstore = FAISS.load_local(INDEX_PATH, embedding_model, allow_dangerous_deserialization=True)"
   ]
  },
  {
   "cell_type": "code",
   "execution_count": 22,
   "metadata": {},
   "outputs": [],
   "source": [
    "from langchain_core.pydantic_v1 import BaseModel, Field, validator"
   ]
  },
  {
   "cell_type": "code",
   "execution_count": 23,
   "metadata": {},
   "outputs": [],
   "source": [
    "class BalanceSheet(BaseModel):\n",
    "    \"\"\"\n",
    "    Fields to extract from balance sheet \n",
    "    \"\"\"\n",
    "    total_assets: float = Field(description=\"total assets\")\n",
    "    cash: float = Field(description=\"cash and cash equivalents\")\n",
    "    acc_rec: float = Field(description=\"accounts receivable\")\n",
    "    inv: float = Field(description=\"inventory\")\n",
    "    capital_assets : float = Field(description=\"Property, plant, equipment, and things that fall under capital assets\")\n",
    "    intangible_assets : float = Field(description=\"intangible assets\")\n",
    "    other_assets : float = Field(description=\"any asset that does not fall under any other asset category\")\n",
    "\n",
    "    total_liabilities : float = Field(description=\"total liabilities\")\n",
    "    acc_payable : float = Field(description=\"accounts payable\")\n",
    "    notes_payable : float = Field(description=\"Short term debt and notes payable\")\n",
    "    longterm_debt : float = Field(description=\"long term debt\")\n",
    "    other_liabilities : float = Field(description=\"other liabilites\")\n",
    "\n",
    "    total_equity : float = Field(description=\"total equity\")\n",
    "    common_stock : float = Field(description=\"common stock\")\n",
    "    prefered_stock : float = Field(description=\"prefered stock\")\n",
    "    retained_earnings : float = Field(description=\"retained_earnings\")\n",
    "    other_equity : float = Field(description=\"other equity\")\n",
    "    "
   ]
  },
  {
   "cell_type": "markdown",
   "metadata": {},
   "source": [
    "# with parser"
   ]
  },
  {
   "cell_type": "code",
   "execution_count": 7,
   "metadata": {},
   "outputs": [],
   "source": [
    "from langchain.output_parsers import PydanticOutputParser"
   ]
  },
  {
   "cell_type": "code",
   "execution_count": 8,
   "metadata": {},
   "outputs": [
    {
     "data": {
      "text/plain": [
       "2499"
      ]
     },
     "execution_count": 8,
     "metadata": {},
     "output_type": "execute_result"
    }
   ],
   "source": [
    "parser = PydanticOutputParser(pydantic_object=BalanceSheet)\n",
    "len(parser.get_format_instructions())"
   ]
  },
  {
   "cell_type": "code",
   "execution_count": 9,
   "metadata": {},
   "outputs": [],
   "source": [
    "from langchain_core.prompts import PromptTemplate\n"
   ]
  },
  {
   "cell_type": "code",
   "execution_count": 10,
   "metadata": {},
   "outputs": [],
   "source": [
    "prompt = PromptTemplate(\n",
    "    template=\"Answer the user query.\\n{format_instructions}\\n{query}\\n\",\n",
    "    input_variables=[\"query\"],\n",
    "    partial_variables={\"format_instructions\": parser.get_format_instructions()},\n",
    ")\n"
   ]
  },
  {
   "cell_type": "markdown",
   "metadata": {},
   "source": [
    "#  open ai tools\n",
    "https://python.langchain.com/v0.1/docs/modules/model_io/output_parsers/types/openai_tools/"
   ]
  },
  {
   "cell_type": "code",
   "execution_count": null,
   "metadata": {},
   "outputs": [],
   "source": [
    "llm = ChatOpenAI(model=\"gpt-4o-mini\")\n",
    "llm = llm.bind_tools([BalanceSheet])\n",
    "llm.kwargs['tools']"
   ]
  },
  {
   "cell_type": "code",
   "execution_count": 25,
   "metadata": {},
   "outputs": [],
   "source": [
    "from langchain_core.prompts import ChatPromptTemplate"
   ]
  },
  {
   "cell_type": "code",
   "execution_count": 26,
   "metadata": {},
   "outputs": [],
   "source": [
    "from langchain_openai import OpenAIEmbeddings, ChatOpenAI\n",
    "llm = ChatOpenAI(model=\"gpt-4o-mini\")\n",
    "embedding_model = OpenAIEmbeddings(model=\"text-embedding-3-small\")"
   ]
  },
  {
   "cell_type": "code",
   "execution_count": 52,
   "metadata": {},
   "outputs": [],
   "source": [
    "import base64\n",
    "with open(r\".\\reports\\24Q1USBANK\\balance_sheet.png\", \"rb\") as img: \n",
    "    image_data = base64.b64encode(img.read()).decode('utf-8')"
   ]
  },
  {
   "cell_type": "code",
   "execution_count": 53,
   "metadata": {},
   "outputs": [],
   "source": [
    "from langchain.schema.messages import HumanMessage, AIMessage"
   ]
  },
  {
   "cell_type": "code",
   "execution_count": 54,
   "metadata": {},
   "outputs": [],
   "source": [
    "message = HumanMessage(\n",
    "    content=[\n",
    "        {\"type\": \"text\", \"text\": \"extract the column for March 31, 2023\"},\n",
    "        {\n",
    "            \"type\": \"image_url\",\n",
    "            \"image_url\": {\"url\": f\"data:image/png;base64,{image_data}\"},\n",
    "        },\n",
    "    ],\n",
    ")\n"
   ]
  },
  {
   "cell_type": "code",
   "execution_count": 55,
   "metadata": {},
   "outputs": [],
   "source": [
    "response = llm.invoke([message])"
   ]
  },
  {
   "cell_type": "code",
   "execution_count": 56,
   "metadata": {},
   "outputs": [
    {
     "name": "stdout",
     "output_type": "stream",
     "text": [
      "Here is the extracted column for March 31, 2023:\n",
      "\n",
      "**Assets**\n",
      "- Cash and due from banks: $76,985\n",
      "- Investment securities: \n",
      "  - Held-to-maturity: $82,948\n",
      "  - Available-for-sale: $72,426\n",
      "- Loans held for sale: $2,080\n",
      "- Loans:\n",
      "  - Commercial: $134,726\n",
      "  - Commercial real estate: $52,677\n",
      "  - Residential mortgages: $116,079\n",
      "  - Credit card: $27,844\n",
      "  - Other retail: $43,262\n",
      "  - Total loans: $374,588\n",
      "  - Less allowance for loan losses: ($7,514)\n",
      "  - Net loans: $367,074\n",
      "- Premises and equipment: $3,537\n",
      "- Goodwill: $12,479\n",
      "- Other intangible assets: $6,031\n",
      "- Other assets: $60,046\n",
      "- **Total assets: $683,606**\n",
      "\n",
      "**Liabilities and Shareholders' Equity**\n",
      "- Deposits:\n",
      "  - Noninterest-bearing: $91,220\n",
      "  - Interest-bearing: $436,843\n",
      "  - Total deposits: $528,063\n",
      "- Short-term borrowings: $17,102\n",
      "- Long-term debt: $52,693\n",
      "- Other liabilities: $29,715\n",
      "- **Total liabilities: $627,573**\n",
      "\n",
      "**Shareholders' equity**\n",
      "- Preferred stock: $6,808\n",
      "- Common stock: $21\n",
      "- Capital surplus: $8,642\n",
      "- Retained earnings: $74,473\n",
      "- Less treasury stock: ($24,023)\n",
      "- Accumulated other comprehensive income (loss): ($10,353)\n",
      "- **Total U.S. Bancorp shareholders' equity: $55,568**\n",
      "- Noncontrolling interests: $465\n",
      "- **Total equity: $56,033**\n",
      "- **Total liabilities and equity: $683,606**\n"
     ]
    }
   ],
   "source": [
    "print(response.content)"
   ]
  },
  {
   "cell_type": "markdown",
   "metadata": {},
   "source": [
    "works better if there is no other data\\\n",
    "additional data usually confuses it\\\n",
    "it cannot reliably do math, only ask it to transcribe clear data"
   ]
  },
  {
   "cell_type": "markdown",
   "metadata": {},
   "source": [
    "# processing markdown"
   ]
  },
  {
   "cell_type": "code",
   "execution_count": 62,
   "metadata": {},
   "outputs": [],
   "source": [
    "import re"
   ]
  },
  {
   "cell_type": "code",
   "execution_count": 63,
   "metadata": {},
   "outputs": [],
   "source": [
    "md_resp = response.content\n",
    "my_dict = {}\n"
   ]
  },
  {
   "cell_type": "code",
   "execution_count": 105,
   "metadata": {},
   "outputs": [
    {
     "name": "stdout",
     "output_type": "stream",
     "text": [
      "Here is the extracted column for March 31, 2023:\n",
      "\n",
      "**Assets**\n",
      "- Cash and due from banks: $76,985\n",
      "- Investment securities: \n",
      "  - Held-to-maturity: $82,948\n",
      "  - Available-for-sale: $72,426\n",
      "- Loans held for sale: $2,080\n",
      "- Loans:\n",
      "  - Commercial: $134,726\n",
      "  - Commercial real estate: $52,677\n",
      "  - Residential mortgages: $116,079\n",
      "  - Credit card: $27,844\n",
      "  - Other retail: $43,262\n",
      "  - Total loans: $374,588\n",
      "  - Less allowance for loan losses: ($7,514)\n",
      "  - Net loans: $367,074\n",
      "- Premises and equipment: $3,537\n",
      "- Goodwill: $12,479\n",
      "- Other intangible assets: $6,031\n",
      "- Other assets: $60,046\n",
      "- **Total assets: $683,606**\n",
      "\n",
      "**Liabilities and Shareholders' Equity**\n",
      "- Deposits:\n",
      "  - Noninterest-bearing: $91,220\n",
      "  - Interest-bearing: $436,843\n",
      "  - Total deposits: $528,063\n",
      "- Short-term borrowings: $17,102\n",
      "- Long-term debt: $52,693\n",
      "- Other liabilities: $29,715\n",
      "- **Total liabilities: $627,573**\n",
      "\n",
      "**Shareholders' equity**\n",
      "- Preferred stock: $6,808\n",
      "- Common stock: $21\n",
      "- Capital surplus: $8,642\n",
      "- Retained earnings: $74,473\n",
      "- Less treasury stock: ($24,023)\n",
      "- Accumulated other comprehensive income (loss): ($10,353)\n",
      "- **Total U.S. Bancorp shareholders' equity: $55,568**\n",
      "- Noncontrolling interests: $465\n",
      "- **Total equity: $56,033**\n",
      "- **Total liabilities and equity: $683,606**\n"
     ]
    }
   ],
   "source": [
    "print(md_resp)"
   ]
  },
  {
   "cell_type": "code",
   "execution_count": 106,
   "metadata": {},
   "outputs": [],
   "source": [
    "my_str = \"- Cash and due from banks: $76,985\"\n",
    "my_str2 = \"- Less allowance for loan losses: ($7,514)\"\n",
    "my_regex = r'\\s*-[\\s*]*(?P<name>[A-Za-z][A-Za-z-\\s]+)\\s*:\\s*((\\$(?P<pos_val>[\\d,]+))|(\\(\\$(?P<neg_val>[\\d,]+)\\)))[\\s*]*'"
   ]
  },
  {
   "cell_type": "code",
   "execution_count": 72,
   "metadata": {},
   "outputs": [],
   "source": [
    "pattern = re.compile(my_regex)"
   ]
  },
  {
   "cell_type": "code",
   "execution_count": 73,
   "metadata": {},
   "outputs": [],
   "source": [
    "my_match = pattern.match(my_str)"
   ]
  },
  {
   "cell_type": "code",
   "execution_count": 74,
   "metadata": {},
   "outputs": [
    {
     "data": {
      "text/plain": [
       "NoneType"
      ]
     },
     "execution_count": 74,
     "metadata": {},
     "output_type": "execute_result"
    }
   ],
   "source": [
    "type(my_match)"
   ]
  },
  {
   "cell_type": "code",
   "execution_count": 97,
   "metadata": {},
   "outputs": [
    {
     "data": {
      "text/plain": [
       "{'name': 'Less allowance for loan losses', 'pos_val': None, 'neg_val': '7,514'}"
      ]
     },
     "execution_count": 97,
     "metadata": {},
     "output_type": "execute_result"
    }
   ],
   "source": [
    "m = re.match(my_regex, my_str2)\n",
    "m.groupdict()"
   ]
  },
  {
   "cell_type": "code",
   "execution_count": 107,
   "metadata": {},
   "outputs": [],
   "source": [
    "my_dict = {}\n",
    "for l in md_resp.split(\"\\n\"):\n",
    "    match = re.match(my_regex, l)\n",
    "    if not match :\n",
    "        continue\n",
    "    groupdict = match.groupdict()\n",
    "    if pv:= groupdict[\"pos_val\"]:\n",
    "        my_dict[groupdict['name']] = float(pv.replace(',',''))\n",
    "    elif nv_str:= groupdict['neg_val']:\n",
    "        my_dict[groupdict['name']] = -1 * float(nv_str.replace(',',''))"
   ]
  },
  {
   "cell_type": "code",
   "execution_count": 108,
   "metadata": {},
   "outputs": [
    {
     "name": "stdout",
     "output_type": "stream",
     "text": [
      "{'Cash and due from banks': 76985.0, 'Held-to-maturity': 82948.0, 'Available-for-sale': 72426.0, 'Loans held for sale': 2080.0, 'Commercial': 134726.0, 'Commercial real estate': 52677.0, 'Residential mortgages': 116079.0, 'Credit card': 27844.0, 'Other retail': 43262.0, 'Total loans': 374588.0, 'Less allowance for loan losses': -7514.0, 'Net loans': 367074.0, 'Premises and equipment': 3537.0, 'Goodwill': 12479.0, 'Other intangible assets': 6031.0, 'Other assets': 60046.0, 'Total assets': 683606.0, 'Noninterest-bearing': 91220.0, 'Interest-bearing': 436843.0, 'Total deposits': 528063.0, 'Short-term borrowings': 17102.0, 'Long-term debt': 52693.0, 'Other liabilities': 29715.0, 'Total liabilities': 627573.0, 'Preferred stock': 6808.0, 'Common stock': 21.0, 'Capital surplus': 8642.0, 'Retained earnings': 74473.0, 'Less treasury stock': -24023.0, 'Noncontrolling interests': 465.0, 'Total equity': 56033.0, 'Total liabilities and equity': 683606.0}\n"
     ]
    }
   ],
   "source": [
    "print(my_dict)"
   ]
  },
  {
   "cell_type": "code",
   "execution_count": 109,
   "metadata": {},
   "outputs": [],
   "source": [
    "import json"
   ]
  },
  {
   "cell_type": "code",
   "execution_count": 116,
   "metadata": {},
   "outputs": [],
   "source": [
    "with open(\"./reports/24Q1USBANK/balancesheet.json\", \"w+\") as f:\n",
    "    json.dump(my_dict, f)"
   ]
  },
  {
   "cell_type": "markdown",
   "metadata": {},
   "source": [
    "# forcing json output ?"
   ]
  }
 ],
 "metadata": {
  "kernelspec": {
   "display_name": "Python 3",
   "language": "python",
   "name": "python3"
  },
  "language_info": {
   "codemirror_mode": {
    "name": "ipython",
    "version": 3
   },
   "file_extension": ".py",
   "mimetype": "text/x-python",
   "name": "python",
   "nbconvert_exporter": "python",
   "pygments_lexer": "ipython3",
   "version": "3.12.1"
  }
 },
 "nbformat": 4,
 "nbformat_minor": 2
}
