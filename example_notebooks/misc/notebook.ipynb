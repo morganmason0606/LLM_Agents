{
 "cells": [
  {
   "cell_type": "markdown",
   "metadata": {},
   "source": [
    "# This notebook is to explore llm frameworks using topics such as langchain\n"
   ]
  },
  {
   "cell_type": "markdown",
   "metadata": {},
   "source": [
    "# Langchain"
   ]
  },
  {
   "cell_type": "code",
   "execution_count": 3,
   "metadata": {},
   "outputs": [],
   "source": [
    "# load relevant environment variables\n",
    "from dotenv import load_dotenv\n",
    "import os"
   ]
  },
  {
   "cell_type": "code",
   "execution_count": 4,
   "metadata": {},
   "outputs": [
    {
     "name": "stdout",
     "output_type": "stream",
     "text": [
      "True\n"
     ]
    }
   ],
   "source": [
    "load_dotenv()\n",
    "API_KEY = os.getenv(\"OPENAI_API_KEY\")\n",
    "print(API_KEY is not None)"
   ]
  },
  {
   "cell_type": "markdown",
   "metadata": {},
   "source": [
    "make sure you have a key to the AI model you intend to use"
   ]
  },
  {
   "cell_type": "code",
   "execution_count": 11,
   "metadata": {},
   "outputs": [],
   "source": [
    "from langchain_openai import ChatOpenAI\n",
    "\n",
    "llm = ChatOpenAI(api_key=API_KEY, model=\"gpt-3.5-turbo-0125\")\n",
    "#llm stores the LLM to be used in the model"
   ]
  },
  {
   "cell_type": "markdown",
   "metadata": {},
   "source": [
    "## creating an expected output structure"
   ]
  },
  {
   "cell_type": "code",
   "execution_count": 9,
   "metadata": {},
   "outputs": [],
   "source": [
    "#creating a llm that is expected to output a balancesheet object with the associated fields\n",
    "from typing import Optional #typing in necessary to determine what type of data should be given, if data is necessary\n",
    "from langchain_core.pydantic_v1 import BaseModel, Field\n",
    "\n",
    "class BalanceSheet(BaseModel):\n",
    "    assets: float = Field(\"total assets\")\n",
    "    liabilities: float =  Field(\"total liabilities\")\n",
    "    equity: float = Field(\"total equity\")\n",
    "\n",
    "bs_class_structured_llm = llm.with_structured_output(BalanceSheet)\n",
    "\n"
   ]
  },
  {
   "cell_type": "code",
   "execution_count": 10,
   "metadata": {},
   "outputs": [],
   "source": [
    "# craeting an llm that is expected to output json of the property field\n",
    "balance_sheet_json_schema = {\n",
    "    \"title\" : \"balance sheet\",\n",
    "    \"description\" : \"collect information from balance sheet\", \n",
    "    \"type\" : \"object\", \n",
    "    \"properties\" : {\n",
    "        \"assets\" : {\n",
    "            \"type\": \"float\",\n",
    "            \"description\" : \"total assets\"\n",
    "        }, \n",
    "        \"liabilities\" :{\n",
    "            \"type\": \"float\",\n",
    "            \"description\" : \"total liabilities\"\n",
    "        },\n",
    "        \"equity\" :{ \n",
    "            \"type\": \"float\",\n",
    "            \"description\" : \"total equity\"\n",
    "        }\n",
    "    },\n",
    "    \"required\" : [\"assets\", \"liabilities\", \"equity\"]\n",
    "}\n",
    "\n",
    "bs_json_structured_Llm = llm.with_structured_output(balance_sheet_json_schema)"
   ]
  },
  {
   "cell_type": "markdown",
   "metadata": {},
   "source": [
    "Example prompts can also be used to coax the model into producing the desired output  \n",
    "[How to introduce prompts](https://python.langchain.com/v0.2/docs/how_to/structured_output/#few-shot-prompting)"
   ]
  },
  {
   "cell_type": "markdown",
   "metadata": {},
   "source": [
    "## load local documents"
   ]
  },
  {
   "cell_type": "code",
   "execution_count": null,
   "metadata": {},
   "outputs": [],
   "source": [
    "from langchain_community.document_loaders import DirectoryLoader\n",
    "\n"
   ]
  }
 ],
 "metadata": {
  "kernelspec": {
   "display_name": "Python 3",
   "language": "python",
   "name": "python3"
  },
  "language_info": {
   "codemirror_mode": {
    "name": "ipython",
    "version": 3
   },
   "file_extension": ".py",
   "mimetype": "text/x-python",
   "name": "python",
   "nbconvert_exporter": "python",
   "pygments_lexer": "ipython3",
   "version": "3.12.1"
  }
 },
 "nbformat": 4,
 "nbformat_minor": 2
}
