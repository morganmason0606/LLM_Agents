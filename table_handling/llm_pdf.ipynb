{
 "cells": [
  {
   "cell_type": "markdown",
   "metadata": {},
   "source": [
    "# Exploring again using llms to process data\n"
   ]
  },
  {
   "cell_type": "code",
   "execution_count": 1,
   "metadata": {},
   "outputs": [],
   "source": [
    "%load_ext dotenv\n",
    "%dotenv ../.env"
   ]
  },
  {
   "cell_type": "markdown",
   "metadata": {},
   "source": [
    "## [pdf loader](https://python.langchain.com/v0.2/docs/how_to/document_loader_pdf/)\n",
    "https://python.langchain.com/v0.2/docs/how_to/document_loader_pdf/"
   ]
  },
  {
   "cell_type": "code",
   "execution_count": 2,
   "metadata": {},
   "outputs": [],
   "source": [
    "from langchain_community.document_loaders import PyPDFLoader\n",
    "\n"
   ]
  },
  {
   "cell_type": "code",
   "execution_count": 22,
   "metadata": {},
   "outputs": [
    {
     "name": "stdout",
     "output_type": "stream",
     "text": [
      "11\n"
     ]
    }
   ],
   "source": [
    "\n",
    "file_path = \"./data/U-S-Bancorp-CCAR-2024-Disclosure_Final.pdf\"\n",
    "loader = PyPDFLoader(file_path)\n",
    "docs = loader.load()\n",
    "print(len(docs))"
   ]
  },
  {
   "cell_type": "markdown",
   "metadata": {},
   "source": [
    "PyPDFLoader loads US bancorp ccar and splits it into smaller sections\n",
    "* by default, load_and_split uses [RecursiveCharacterTextSplitter](https://api.python.langchain.com/en/latest/document_loaders/langchain_community.document_loaders.pdf.PyPDFLoader.html#langchain_community.document_loaders.pdf.PyPDFLoader.load_and_split)\n"
   ]
  },
  {
   "cell_type": "markdown",
   "metadata": {},
   "source": [
    "# making model to answer"
   ]
  },
  {
   "cell_type": "code",
   "execution_count": 10,
   "metadata": {},
   "outputs": [],
   "source": [
    "# making model\n",
    "from langchain_openai import ChatOpenAI\n",
    "llm = ChatOpenAI(model=\"gpt-3.5-turbo-0125\")\n",
    "\n"
   ]
  },
  {
   "cell_type": "code",
   "execution_count": 12,
   "metadata": {},
   "outputs": [],
   "source": [
    "from langchain_community.vectorstores import FAISS \n",
    "from langchain_openai import OpenAIEmbeddings\n",
    "from langchain_text_splitters import RecursiveCharacterTextSplitter\n",
    "\n",
    "text_splitter = RecursiveCharacterTextSplitter(chunk_size=1000, chunk_overlap=200)\n",
    "splits = text_splitter.split_documents(docs)\n",
    "vectorstore = FAISS.from_documents(documents=splits, embedding=OpenAIEmbeddings())\n",
    "\n",
    "retriever = vectorstore.as_retriever()\n",
    "\n"
   ]
  },
  {
   "cell_type": "markdown",
   "metadata": {},
   "source": [
    "# making rag chain"
   ]
  },
  {
   "cell_type": "code",
   "execution_count": null,
   "metadata": {},
   "outputs": [],
   "source": [
    "from langchain.chains import create_retrieval_chain\n",
    "from langchain.chains.combine_documents import create_stuff_documents_chain\n",
    "from langchain_core.prompts import ChatPromptTemplate\n"
   ]
  },
  {
   "cell_type": "code",
   "execution_count": 17,
   "metadata": {},
   "outputs": [
    {
     "data": {
      "text/plain": [
       "{'input': 'Output the table on loan losses',\n",
       " 'context': [Document(page_content='Loan losses\\nProjected loan losses, by type of loan, 2024:Q1-2026:Q1\\nSupervisory Severely Adverse Scenario\\nBillions of \\ndollarsPortfolio loss\\nLoan type rates (percent) (1)\\nLoan losses 15.7 4.4%\\n  First-lien mortgages, domestic 1.0 0.9%\\n  Junior liens and HELOCs, (2) domestic 0.3 2.5%\\n  Commercial and industrial (3)4.6 4.6%\\n  Commercial real estate, domestic 3.4 7.1%\\n  Credit cards 4.7 17.3%\\n  Other consumer (4)0.9 3.6%\\n  Other loans (5)0.8 2.8%\\n(1)  Average loan balances used to calculate portfolio loss rates exclude loans held for sale, loans held for investment under the fair-value option, and  \\n      Paycheck Protection Program loans and are calculated over nine quarters.\\n(2)  Home equity lines of credit (HELOCs) .\\n(3)  Commercial and industrial loans include small- and medium-enterprise loans and corporate cards.\\n(4)  Other consumer loans include student loans and automobile loans.\\n(5)  Other loans include international real estate loans.', metadata={'source': './data/U-S-Bancorp-CCAR-2024-Disclosure_Final.pdf', 'page': 6}),\n",
       "  Document(page_content='Other loans (5)0.8 2.8%\\n(1)  Average loan balances used to calculate portfolio loss rates exclude loans held for sale, loans held for investment under the fair-value option, and  \\n      Paycheck Protection Program loans and are calculated over nine quarters.\\n(2)  Home equity lines of credit (HELOCs) .\\n(3)  Commercial and industrial loans include small- and medium-enterprise loans and corporate cards.\\n(4)  Other consumer loans include student loans and automobile loans.\\n(5)  Other loans include international real estate loans.\\nU.S. Bank National Association            3', metadata={'source': './data/U-S-Bancorp-CCAR-2024-Disclosure_Final.pdf', 'page': 9}),\n",
       "  Document(page_content=\"measured at fair value or amortized cost, and goodwill impairment losses.\\n(7)  Other comprehensive income is reflected as zero because U.S. Bank National Association is subject to Category III standards.\\n(8)  For each quarter, risk-weighted assets are calculated under the Board's standardized capital risk-based approach in 12 C.F.R. pt. 217, subpt. D.   \\n \\nLoan losses\\nProjected loan losses, by type of loan, 2024:Q1-2026:Q1\\nSupervisory Severely Adverse Scenario\\nBillions of \\ndollarsPortfolio loss\\nLoan type  rates (percent) (1)\\nLoan losses 15.7 4.4%\\n  First-lien mortgages, domestic 1.0 0.9%\\n  Junior liens and HELOCs, (2) domestic 0.3 2.5%\\n  Commercial and industrial (3)4.6 4.6%\\n  Commercial real estate, domestic 3.4 7.1%\\n  Credit cards 4.7 17.3%\\n  Other consumer (4)0.9 3.6%\\n  Other loans (5)0.8 2.8%\\n(1)  Average loan balances used to calculate portfolio loss rates exclude loans held for sale, loans held for investment under the fair-value option, and\", metadata={'source': './data/U-S-Bancorp-CCAR-2024-Disclosure_Final.pdf', 'page': 9}),\n",
       "  Document(page_content='Trading and counterparty losses (5)0.0 Risk-weighted assets (8)445.8 434.9\\nOther losses/gains (6)0.2\\n      equals\\nNet income before taxes (2.3) -0.4%\\n(1)  Average assets is the nine-quarter average of total assets.\\n(2)  Noninterest expense includes losses from operational-risk events and other real-estate-owned (OREO) costs.\\n(3)  Other revenue includes one-time income and (expense) items not included in pre-provision net revenue.\\n(4)  Projection of expected credit losses on securities is incorporated in the allowance for credit losses.\\n(5)  Trading and counterparty losses include mark-to-market and credit valuation adjustment (CVA) losses.\\n(6)  Other losses/gains include projected change in fair value of loans held for sale or held for investment and measured under the fair-value option, losses/gains on hedges on loans\\n       measured at fair value or amortized cost, and goodwill impairment losses.', metadata={'source': './data/U-S-Bancorp-CCAR-2024-Disclosure_Final.pdf', 'page': 9})],\n",
       " 'answer': '| Loan Type                   | Projected Loss (Billions of dollars) | Loss Rate (%) |\\n|-----------------------------|--------------------------------------|---------------|\\n| Total Loan Losses           | 15.7                                 | 4.4%          |\\n| First-lien Mortgages        | 1.0                                  | 0.9%          |\\n| Junior Liens and HELOCs     | 0.3                                  | 2.5%          |\\n| Commercial and Industrial   | 4.6                                  | 4.6%          |\\n| Commercial Real Estate      | 3.4                                  | 7.1%          |\\n| Credit Cards                | 4.7                                  | 17.3%         |\\n| Other Consumer Loans        | 0.9                                  | 3.6%          |\\n| Other Loans                 | 0.8                                  | 2.8%          |'}"
      ]
     },
     "execution_count": 17,
     "metadata": {},
     "output_type": "execute_result"
    }
   ],
   "source": [
    "\n",
    "system_prompt = (\n",
    "    \"You are an assistant for extracting tables from pdf. \"\n",
    "    \"Use the following pieces of retrieved context to answer \"\n",
    "    \"the question. If you don't know the answer, say that you \"\n",
    "    \"don't know. Output your answer in csv format \"\n",
    "    \"\\n\\n\"\n",
    "    \"{context}\"\n",
    ")\n",
    "\n",
    "prompt = ChatPromptTemplate.from_messages(\n",
    "    [\n",
    "        (\"system\", system_prompt),\n",
    "        (\"human\", \"{input}\"),\n",
    "    ]\n",
    ")\n",
    "\n",
    "\n",
    "question_answer_chain = create_stuff_documents_chain(llm, prompt)\n",
    "rag_chain = create_retrieval_chain(retriever, question_answer_chain)\n",
    "\n",
    "results = rag_chain.invoke({\"input\": \"Output the table on loan losses\"})\n",
    "\n",
    "results\n",
    "\n"
   ]
  },
  {
   "cell_type": "code",
   "execution_count": 14,
   "metadata": {},
   "outputs": [
    {
     "data": {
      "text/plain": [
       "'Loan Type, Projected Losses (Billions of dollars), Loss Rate (%)\\nFirst-lien mortgages, domestic, 1.0, 0.9%\\nJunior liens and HELOCs, domestic, 0.3, 2.5%\\nCommercial and industrial, 4.6, 4.6%\\nCommercial real estate, domestic, 3.4, 7.1%\\nCredit cards, 4.7, 17.3%\\nOther consumer, 0.9, 3.6%\\nOther loans, 0.8, 2.8%'"
      ]
     },
     "execution_count": 14,
     "metadata": {},
     "output_type": "execute_result"
    }
   ],
   "source": [
    "results['answer']"
   ]
  },
  {
   "cell_type": "code",
   "execution_count": 16,
   "metadata": {},
   "outputs": [],
   "source": [
    "with open('llm_pdf_to_csv.csv', 'w') as f:\n",
    "    f.write(results['answer'])"
   ]
  },
  {
   "cell_type": "markdown",
   "metadata": {},
   "source": [
    "## csv results\n",
    "* this ended up missing the first line of the table because it was in a different format (bolded)t\n",
    "* commas in the text messed up the csv format\n"
   ]
  },
  {
   "cell_type": "markdown",
   "metadata": {},
   "source": [
    "# retry with json\n",
    "* converting to json format"
   ]
  },
  {
   "cell_type": "code",
   "execution_count": 18,
   "metadata": {},
   "outputs": [
    {
     "data": {
      "text/plain": [
       "{'input': 'Output the table on loan losses',\n",
       " 'context': [Document(page_content='Loan losses\\nProjected loan losses, by type of loan, 2024:Q1-2026:Q1\\nSupervisory Severely Adverse Scenario\\nBillions of \\ndollarsPortfolio loss\\nLoan type rates (percent) (1)\\nLoan losses 15.7 4.4%\\n  First-lien mortgages, domestic 1.0 0.9%\\n  Junior liens and HELOCs, (2) domestic 0.3 2.5%\\n  Commercial and industrial (3)4.6 4.6%\\n  Commercial real estate, domestic 3.4 7.1%\\n  Credit cards 4.7 17.3%\\n  Other consumer (4)0.9 3.6%\\n  Other loans (5)0.8 2.8%\\n(1)  Average loan balances used to calculate portfolio loss rates exclude loans held for sale, loans held for investment under the fair-value option, and  \\n      Paycheck Protection Program loans and are calculated over nine quarters.\\n(2)  Home equity lines of credit (HELOCs) .\\n(3)  Commercial and industrial loans include small- and medium-enterprise loans and corporate cards.\\n(4)  Other consumer loans include student loans and automobile loans.\\n(5)  Other loans include international real estate loans.', metadata={'source': './data/U-S-Bancorp-CCAR-2024-Disclosure_Final.pdf', 'page': 6}),\n",
       "  Document(page_content='Other loans (5)0.8 2.8%\\n(1)  Average loan balances used to calculate portfolio loss rates exclude loans held for sale, loans held for investment under the fair-value option, and  \\n      Paycheck Protection Program loans and are calculated over nine quarters.\\n(2)  Home equity lines of credit (HELOCs) .\\n(3)  Commercial and industrial loans include small- and medium-enterprise loans and corporate cards.\\n(4)  Other consumer loans include student loans and automobile loans.\\n(5)  Other loans include international real estate loans.\\nU.S. Bank National Association            3', metadata={'source': './data/U-S-Bancorp-CCAR-2024-Disclosure_Final.pdf', 'page': 9}),\n",
       "  Document(page_content=\"measured at fair value or amortized cost, and goodwill impairment losses.\\n(7)  Other comprehensive income is reflected as zero because U.S. Bank National Association is subject to Category III standards.\\n(8)  For each quarter, risk-weighted assets are calculated under the Board's standardized capital risk-based approach in 12 C.F.R. pt. 217, subpt. D.   \\n \\nLoan losses\\nProjected loan losses, by type of loan, 2024:Q1-2026:Q1\\nSupervisory Severely Adverse Scenario\\nBillions of \\ndollarsPortfolio loss\\nLoan type  rates (percent) (1)\\nLoan losses 15.7 4.4%\\n  First-lien mortgages, domestic 1.0 0.9%\\n  Junior liens and HELOCs, (2) domestic 0.3 2.5%\\n  Commercial and industrial (3)4.6 4.6%\\n  Commercial real estate, domestic 3.4 7.1%\\n  Credit cards 4.7 17.3%\\n  Other consumer (4)0.9 3.6%\\n  Other loans (5)0.8 2.8%\\n(1)  Average loan balances used to calculate portfolio loss rates exclude loans held for sale, loans held for investment under the fair-value option, and\", metadata={'source': './data/U-S-Bancorp-CCAR-2024-Disclosure_Final.pdf', 'page': 9}),\n",
       "  Document(page_content='Trading and counterparty losses (5)0.0 Risk-weighted assets (8)445.8 434.9\\nOther losses/gains (6)0.2\\n      equals\\nNet income before taxes (2.3) -0.4%\\n(1)  Average assets is the nine-quarter average of total assets.\\n(2)  Noninterest expense includes losses from operational-risk events and other real-estate-owned (OREO) costs.\\n(3)  Other revenue includes one-time income and (expense) items not included in pre-provision net revenue.\\n(4)  Projection of expected credit losses on securities is incorporated in the allowance for credit losses.\\n(5)  Trading and counterparty losses include mark-to-market and credit valuation adjustment (CVA) losses.\\n(6)  Other losses/gains include projected change in fair value of loans held for sale or held for investment and measured under the fair-value option, losses/gains on hedges on loans\\n       measured at fair value or amortized cost, and goodwill impairment losses.', metadata={'source': './data/U-S-Bancorp-CCAR-2024-Disclosure_Final.pdf', 'page': 9})],\n",
       " 'answer': '```json\\n{\\n    \"Loan losses\": {\\n        \"Projected loan losses, by type of loan, 2024:Q1-2026:Q1\": {\\n            \"Supervisory Severely Adverse Scenario\": {\\n                \"Billions of dollars\": \"Portfolio loss\",\\n                \"Loan type rates (percent) (1)\": {\\n                    \"Loan losses\": \"15.7 4.4%\",\\n                    \"First-lien mortgages, domestic\": \"1.0 0.9%\",\\n                    \"Junior liens and HELOCs, (2) domestic\": \"0.3 2.5%\",\\n                    \"Commercial and industrial (3)\": \"4.6 4.6%\",\\n                    \"Commercial real estate, domestic\": \"3.4 7.1%\",\\n                    \"Credit cards\": \"4.7 17.3%\",\\n                    \"Other consumer (4)\": \"0.9 3.6%\",\\n                    \"Other loans (5)\": \"0.8 2.8%\"\\n                }\\n            }\\n        }\\n    }\\n}\\n```'}"
      ]
     },
     "execution_count": 18,
     "metadata": {},
     "output_type": "execute_result"
    }
   ],
   "source": [
    "system_prompt = (\n",
    "    \"You are an assistant for extracting tables from pdf. \"\n",
    "    \"Use the following pieces of retrieved context to answer \"\n",
    "    \"the question. If you don't know the answer, say that you \"\n",
    "    \"don't know. Output your answer in json format \"\n",
    "    \"\\n\\n\"\n",
    "    \"{context}\"\n",
    ")\n",
    "\n",
    "prompt = ChatPromptTemplate.from_messages(\n",
    "    [\n",
    "        (\"system\", system_prompt),\n",
    "        (\"human\", \"{input}\"),\n",
    "    ]\n",
    ")\n",
    "\n",
    "\n",
    "question_answer_chain = create_stuff_documents_chain(llm, prompt)\n",
    "rag_chain = create_retrieval_chain(retriever, question_answer_chain)\n",
    "\n",
    "results = rag_chain.invoke({\"input\": \"Output the table on loan losses\"})\n",
    "\n",
    "results"
   ]
  },
  {
   "cell_type": "code",
   "execution_count": 19,
   "metadata": {},
   "outputs": [],
   "source": [
    "with open('llm_pdf_to_text.txt', 'w') as f:\n",
    "    f.write(results['answer'])"
   ]
  },
  {
   "cell_type": "markdown",
   "metadata": {},
   "source": [
    "## json results\n",
    "outputs in non standard format, though the information is present  \n",
    "my concern is that this is not scalable since it would require additional post processing (which may be different for different pdfs)"
   ]
  },
  {
   "cell_type": "markdown",
   "metadata": {},
   "source": [
    "# 2024 fed "
   ]
  },
  {
   "cell_type": "code",
   "execution_count": 27,
   "metadata": {},
   "outputs": [],
   "source": [
    "\n",
    "file_path = \"./data/2024-dfast-results-20240626.pdf\"\n",
    "loader = PyPDFLoader(file_path)\n",
    "docs = loader.load()\n",
    "\n",
    "llm = ChatOpenAI(model=\"gpt-3.5-turbo-0125\")\n",
    "\n",
    "text_splitter = RecursiveCharacterTextSplitter(chunk_size=1000, chunk_overlap=200)\n",
    "splits = text_splitter.split_documents(docs)\n",
    "\n",
    "vectorstore = FAISS.from_documents(documents=splits, embedding=OpenAIEmbeddings())\n",
    "retriever = vectorstore.as_retriever()\n",
    "\n",
    "\n"
   ]
  },
  {
   "cell_type": "code",
   "execution_count": 34,
   "metadata": {},
   "outputs": [
    {
     "data": {
      "text/plain": [
       "{'input': 'Output the table 6 which is Capital ratios',\n",
       " 'context': [Document(page_content='Table 6. Capital ratios, actual 2023:Q4 and projected 2024:Q1–2026:Q1 under the se verely adver se scenario: 31 banks\\nPercent\\nBankCommon equity\\ntier 1 capital ratioTier 1 capital ratio Total capital ratio Tier 1 le verage ratioSupplementar y\\nleverage ratio1\\nActual\\n2023:\\nQ4EndingMini-\\nmumActual\\n2023:\\nQ4EndingMini-\\nmumActual\\n2023:\\nQ4EndingMini-\\nmumActual\\n2023:\\nQ4EndingMini-\\nmumActual\\n2023:\\nQ4EndingMini-\\nmum\\nAlly 9.47.17.010.8 8.58.512.410.110.1 8.76.86.8\\nAmerican Expr ess 10.511.8 9.411.312.510.213.114.412.0 9.910.9 8.7\\nBank of America 11.8 9.39.113.511.010.815.212.912.8 7.15.85.76.14.94.8\\nBank of NY-Mellon 12.014.812.214.817.615.015.818.616.2 6.07.16.17.48.77.5\\nBarclays US 13.711.1 9.515.112.611.016.914.513.0 8.57.06.06.05.04.3\\nBMO 10.5 5.05.011.1 5.75.712.9 7.67.68.34.14.17.23.63.6\\nCapital One 12.9 7.67.614.2 9.09.016.010.810.811.2 7.07.09.66.06.0\\nCharles Sch wab Corp 24.527.325.231.734.532.431.734.832.5 8.59.38.78.59.38.7', metadata={'source': './data/2024-dfast-results-20240626.pdf', 'page': 16}),\n",
       "  Document(page_content='Table 1. Aggregate capital ratios, actual, projected 2024:Q1–2026:Q1, and regulator y minimums\\nPercent\\nRegulator y ratio Actual 2023:Q4Stressed minimum capital ratios,\\nseverely adver seMinimum r egulator y capital ratios\\nCommon equity tier 1 capital ratio 12.7 9.9 4.5\\nTier 1 capital ratio 14.3 11.6 6.0\\nTotal capital ratio 16.3 13.7 8.0\\nTier 1 le verage ratio 7.8 6.2 4.0\\nSupplementar y leverage ratio 6.4 5.1 3.0\\nNote: The capital ratio s are calculated using the capital action a ssumption s provided within the super visory stress testing r ules. See 12 C.F .R.\\n§238.132(d); 12 C.F .R. §252.44(c). These pr ojection s represent h ypothetical estimates that in volve an economic outcome that is mor e\\nadverse than expected. The minimum capital ratio s are for the period 2024:Q1 to 2026:Q1. Supplementar y leverage ratio pr ojection s only\\ninclude estimates for banks subject to Categ ory I, II, or III standar ds.', metadata={'source': './data/2024-dfast-results-20240626.pdf', 'page': 7}),\n",
       "  Document(page_content='individual banks are in appendix A .\\nCapital\\nUnder the se verely adver se scenario, the aggregate CET1 capital ratio is projected to decline from\\nan actual 12.7 percent at the star t of the projection horizon to a minimum of 9.9 percent before\\nrising to 10.4 percent at the end of nine quar ters (see table 4 ). Tables 5  and 6 present post-\\nstress minimum capital ratios for each bank, and the change from the star t of the projection\\nhorizon, which varies considerably across banks (see figure 5 ). This variation is due to differences\\nin banks’ business lines, portfolio composition, and securities and loan risk characteristics, which\\ndrive changes in the magnitude and timing of loss, revenue, and expense projections.\\nTable 4. Capital ratios and risk-w eighted assets, actual 2023:Q4 and projected 2024:Q1–2026:Q1\\nPercent except as noted\\nRegulator y ratioActual\\n2023:Q4Projected\\n2026:Q1Projected\\nminimum\\nCommon equity tier 1 capital ratio 12.7 10.4 9.9\\nTier 1 capital ratio 14.3 12.0 11.6', metadata={'source': './data/2024-dfast-results-20240626.pdf', 'page': 14}),\n",
       "  Document(page_content='Percent except as noted\\nRegulator y ratioActual\\n2023:Q4Projected\\n2026:Q1Projected\\nminimum\\nCommon equity tier 1 capital ratio 12.7 10.4 9.9\\nTier 1 capital ratio 14.3 12.0 11.6\\nTotal capital ratio 16.3 14.1 13.7\\nTier 1 le verage ratio 7.8 6.5 6.2\\nSupplementar y leverage ratio 6.4 5.4 5.1\\nRisk-w eighted a ssets1(billion s of dollar s) 11,465.8 11,330.5\\nNote: The capital ratio s are calculated using the capital action a ssumption s provided within the super visory stress testing r ules. See 12 C.F .R.\\n§§ 238.132(d); 252.44(c). These pr ojection s represent h ypothetical estimates that in volve an economic outcome that is mor e adverse than\\nexpected. The minimum capital ratio s are for the period 2024:Q1 to 2026:Q1. Supplementar y leverage ratio pr ojection s only include esti-\\nmates for banks subject to Categ ory I, II, or III standar ds.', metadata={'source': './data/2024-dfast-results-20240626.pdf', 'page': 14})],\n",
       " 'answer': 'Bank; Common equity tier 1 capital ratio; Tier 1 capital ratio; Total capital ratio; Tier 1 leverage ratio; Supplementary leverage ratio\\nAlly; 9.4; 7.1; 7.0; 10.8; 8.5\\nAmerican Express; 10.5; 11.8; 9.4; 11.3; 12.5\\nBank of America; 11.8; 9.3; 9.1; 13.5; 11.0\\nBank of NY-Mellon; 12.0; 14.8; 12.2; 14.8; 17.6\\nBarclays US; 13.7; 11.1; 9.5; 15.1; 12.6\\nBMO; 10.5; 5.0; 5.0; 11.1; 5.7\\nCapital One; 12.9; 7.6; 7.6; 14.2; 9.0\\nCharles Schwab Corp; 24.5; 27.3; 25.3; 31.7; 34.5'}"
      ]
     },
     "execution_count": 34,
     "metadata": {},
     "output_type": "execute_result"
    }
   ],
   "source": [
    "\n",
    "system_prompt = (\n",
    "    \"You are an assistant for extracting tables from pdf. \"\n",
    "    \"Use the following pieces of retrieved context to answer \"\n",
    "    \"the question. Output your answer in csv format seperated with semicolons.\"\n",
    "    \"make sure to include the column headers and the whole table\"\n",
    "    \"\\n\\n\"\n",
    "    \"{context}\"\n",
    ")\n",
    "\n",
    "prompt = ChatPromptTemplate.from_messages(\n",
    "    [\n",
    "        (\"system\", system_prompt),\n",
    "        (\"human\", \"{input}\"),\n",
    "    ]\n",
    ")\n",
    "\n",
    "\n",
    "question_answer_chain = create_stuff_documents_chain(llm, prompt)\n",
    "rag_chain = create_retrieval_chain(retriever, question_answer_chain)\n",
    "\n",
    "results = rag_chain.invoke({\"input\": \"Output the table 6 which is Capital ratios\"})\n",
    "\n",
    "results\n",
    "\n"
   ]
  },
  {
   "cell_type": "code",
   "execution_count": 35,
   "metadata": {},
   "outputs": [
    {
     "name": "stdout",
     "output_type": "stream",
     "text": [
      "Bank; Common equity tier 1 capital ratio; Tier 1 capital ratio; Total capital ratio; Tier 1 leverage ratio; Supplementary leverage ratio\n",
      "Ally; 9.4; 7.1; 7.0; 10.8; 8.5\n",
      "American Express; 10.5; 11.8; 9.4; 11.3; 12.5\n",
      "Bank of America; 11.8; 9.3; 9.1; 13.5; 11.0\n",
      "Bank of NY-Mellon; 12.0; 14.8; 12.2; 14.8; 17.6\n",
      "Barclays US; 13.7; 11.1; 9.5; 15.1; 12.6\n",
      "BMO; 10.5; 5.0; 5.0; 11.1; 5.7\n",
      "Capital One; 12.9; 7.6; 7.6; 14.2; 9.0\n",
      "Charles Schwab Corp; 24.5; 27.3; 25.3; 31.7; 34.5\n"
     ]
    }
   ],
   "source": [
    "print(results['answer'])"
   ]
  },
  {
   "cell_type": "code",
   "execution_count": 36,
   "metadata": {},
   "outputs": [],
   "source": [
    "with open('llm_pdf_to_csv.csv', 'a') as f:\n",
    "    f.write(results['answer'])"
   ]
  },
  {
   "cell_type": "markdown",
   "metadata": {},
   "source": [
    "## llm results\n",
    "with the larger document, it is having trouble getting the full table  \n",
    "this may be an issue with the text splitter"
   ]
  }
 ],
 "metadata": {
  "kernelspec": {
   "display_name": "Python 3",
   "language": "python",
   "name": "python3"
  },
  "language_info": {
   "codemirror_mode": {
    "name": "ipython",
    "version": 3
   },
   "file_extension": ".py",
   "mimetype": "text/x-python",
   "name": "python",
   "nbconvert_exporter": "python",
   "pygments_lexer": "ipython3",
   "version": "3.12.1"
  }
 },
 "nbformat": 4,
 "nbformat_minor": 2
}
