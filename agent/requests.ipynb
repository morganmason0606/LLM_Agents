{
 "cells": [
  {
   "cell_type": "code",
   "execution_count": 33,
   "metadata": {},
   "outputs": [],
   "source": [
    "import requests\n",
    "import urllib\n",
    "from bs4 import BeautifulSoup\n",
    "import re"
   ]
  },
  {
   "cell_type": "code",
   "execution_count": 14,
   "metadata": {},
   "outputs": [],
   "source": [
    "looking_for = \"US Bank 2023 Q2 Earnings Supplement\"\n",
    "url = f\"\"\"http://www.google.com/search?&q={looking_for.replace(\" \", \"+\", -1)}+filetype%3Apdf\"\"\""
   ]
  },
  {
   "cell_type": "code",
   "execution_count": 16,
   "metadata": {},
   "outputs": [],
   "source": [
    "resp = requests.get(url=url)\n",
    "resp.raise_for_status()"
   ]
  },
  {
   "cell_type": "code",
   "execution_count": 25,
   "metadata": {},
   "outputs": [],
   "source": [
    "content = resp._content"
   ]
  },
  {
   "cell_type": "code",
   "execution_count": 29,
   "metadata": {},
   "outputs": [],
   "source": [
    "soup = BeautifulSoup(content)"
   ]
  },
  {
   "cell_type": "code",
   "execution_count": 112,
   "metadata": {},
   "outputs": [
    {
     "name": "stdout",
     "output_type": "stream",
     "text": [
      "https://s203.q4cdn.com/711684571/files/doc_financials/2024/q2/Press-Release-2Q24.pdf\n"
     ]
    }
   ],
   "source": [
    "first_pdf_link = soup.find(href=(lambda h: h and re.search(r\"\\.pdf$\", h.split('&')[0])))\n",
    "if first_pdf_link and (m := re.search(r\"http.*\\.pdf\", first_pdf_link.get('href'))):\n",
    "    link = m.group(0)\n",
    "else:\n",
    "    raise RuntimeError(\"No such link\")\n",
    "print(link)\n"
   ]
  },
  {
   "cell_type": "code",
   "execution_count": null,
   "metadata": {},
   "outputs": [],
   "source": [
    "import requests\n",
    "from bs4 import BeautifulSoup\n",
    "import re\n",
    "\n",
    "def make_google_search_for_pdf(looking_for:str) -> str:\n",
    "    url = f\"\"\"http://www.google.com/search?&q={looking_for.replace(\" \", \"+\", -1)}+filetype%3Apdf\"\"\"\n",
    "    \n",
    "    resp = requests.get(url=url)\n",
    "    resp.raise_for_status()\n",
    "\n",
    "    content = resp._content\n",
    "    soup = BeautifulSoup(content)\n",
    "    first_pdf_link = soup.find(href=(lambda h: h and re.search(r\"\\.pdf$\", h.split('&')[0])))\n",
    "    \n",
    "    if first_pdf_link and (m := re.search(r\"http.*\\.pdf\", first_pdf_link.get('href'))):\n",
    "        link = m.group(0)\n",
    "    else:\n",
    "        raise RuntimeError(\"No such link\")\n",
    "    return link\n",
    "\n"
   ]
  }
 ],
 "metadata": {
  "kernelspec": {
   "display_name": "Python 3",
   "language": "python",
   "name": "python3"
  },
  "language_info": {
   "codemirror_mode": {
    "name": "ipython",
    "version": 3
   },
   "file_extension": ".py",
   "mimetype": "text/x-python",
   "name": "python",
   "nbconvert_exporter": "python",
   "pygments_lexer": "ipython3",
   "version": "3.12.1"
  }
 },
 "nbformat": 4,
 "nbformat_minor": 2
}
